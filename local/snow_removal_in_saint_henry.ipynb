{
 "cells": [
  {
   "cell_type": "markdown",
   "metadata": {
    "deletable": true,
    "editable": true
   },
   "source": [
    "# Snow removal, complaints and Monte Carlo Markov Chains\n",
    "\n",
    "My brother lives with his girlfriend in Saint-Henry, a neighborhood in Montreal.  One day they were talking to me about how aweful the community's new snow removal services were. Dents on cars, destroyed lawns and snow that just wasn't removed. The community was in an uproar and apperently due to the volume of complaints, the local goverment ended up firing the company in charge. \n",
    "\n",
    "So I thought this would be a great real life case to do some A/B testing with Monte Carlo Markov chains! \n",
    "\n",
    "# About the data\n",
    "\n",
    "I'll be using the same montreal 311 data set I had used earlier in a recent hackathon (view earlier post) to look at the number of complaints or \"requests\" pertaining to snow removal. \n",
    "\n",
    "You can get the data for yourself here: http://donnees.ville.montreal.qc.ca/dataset/requete-311\n",
    "\n",
    "First we'll look at the data, see what we can infer right away, then I will introduce you to Monte Carolo Markov Chains and see what they can do for us. "
   ]
  },
  {
   "cell_type": "code",
   "execution_count": 1,
   "metadata": {
    "collapsed": false,
    "deletable": true,
    "editable": true
   },
   "outputs": [],
   "source": [
    "import pandas as pd\n",
    "import matplotlib.pyplot as plt\n",
    "import scipy.stats as stats\n",
    "%matplotlib inline\n",
    "import numpy as np\n",
    "import matplotlib\n"
   ]
  },
  {
   "cell_type": "code",
   "execution_count": 2,
   "metadata": {
    "collapsed": false,
    "deletable": true,
    "editable": true
   },
   "outputs": [
    {
     "name": "stdout",
     "output_type": "stream",
     "text": [
      "used smaller csv\n"
     ]
    }
   ],
   "source": [
    "try:\n",
    "    snow_df=pd.read_csv(\"../311snow.csv\",index_col=\"DDS_DATE_CREATION\",parse_dates=True,encoding = \"ISO-8859-1\")\n",
    "    print(\"used smaller csv\")\n",
    "except:\n",
    "    data=pd.read_csv(\"../311data.csv\",index_col=\"DDS_DATE_CREATION\",parse_dates=True)\n",
    "    print(\"used LARGER csv\")\n",
    "    snow_df=data[data.ACTI_NOM.str.contains(\"Neige\")]\n",
    "    #print(data.columns)\n",
    "    #snow_df.sort_index(inplace=True);\n",
    "    #saving smaller df for future reference\n",
    "    snow_df.to_csv(\"../311snow.csv\")"
   ]
  },
  {
   "cell_type": "markdown",
   "metadata": {
    "deletable": true,
    "editable": true
   },
   "source": [
    "# Quick word about the data\n",
    "\n",
    "The data is has 4 general types or \"Nature\" in French. There's complaints, requests, commentaries and some other thing. Now when you look online a request for something dealing with trash could be that the city didn't pick up the trash at a given spot. You'd think that would be a complaint but it's actually called a request. All in all there are very few data points classified as complaints and since the difference seems tenuous I decided to just merge them all. Anybody calling the city to make a request or complaint or a \"comment\" on anything dealing with snow, that'll be considered a complaint in my analysis. \n",
    "\n"
   ]
  },
  {
   "cell_type": "code",
   "execution_count": 3,
   "metadata": {
    "collapsed": false,
    "deletable": true,
    "editable": true
   },
   "outputs": [
    {
     "data": {
      "text/plain": [
       "Index(['ID_UNIQUE', 'NATURE', 'ACTI_NOM', 'TYPE_LIEU_INTERV', 'RUE',\n",
       "       'RUE_INTERSECTION1', 'RUE_INTERSECTION2', 'LOC_ERREUR_GDT',\n",
       "       'ARRONDISSEMENT', 'ARRONDISSEMENT_GEO', 'LIN_CODE_POSTAL',\n",
       "       'PROVENANCE_ORIGINALE', 'PROVENANCE_TELEPHONE', 'PROVENANCE_COURRIEL',\n",
       "       'PROVENANCE_PERSONNE', 'PROVENANCE_COURRIER', 'PROVENANCE_TELECOPIEUR',\n",
       "       'PROVENANCE_INSTANCE', 'PROVENANCE_MOBILE', 'PROVENANCE_MEDIASOCIAUX',\n",
       "       'PROVENANCE_SITEINTERNET', 'UNITE_RESP_PARENT', 'LOC_LONG', 'LOC_LAT',\n",
       "       'LOC_X', 'LOC_Y'],\n",
       "      dtype='object')"
      ]
     },
     "execution_count": 3,
     "metadata": {},
     "output_type": "execute_result"
    }
   ],
   "source": [
    "snow_df.columns"
   ]
  },
  {
   "cell_type": "code",
   "execution_count": 4,
   "metadata": {
    "collapsed": true,
    "deletable": true,
    "editable": true
   },
   "outputs": [],
   "source": [
    "snow_df=snow_df[snow_df.ARRONDISSEMENT==\"Le Sud-Ouest\"]"
   ]
  },
  {
   "cell_type": "code",
   "execution_count": 5,
   "metadata": {
    "collapsed": false,
    "deletable": true,
    "editable": true
   },
   "outputs": [],
   "source": [
    "snow_df=snow_df[[\"NATURE\",\"ACTI_NOM\"]]"
   ]
  },
  {
   "cell_type": "code",
   "execution_count": 6,
   "metadata": {
    "collapsed": false,
    "deletable": true,
    "editable": true
   },
   "outputs": [],
   "source": [
    "snow_df[\"Everything snow related\"]=1\n",
    "snow_df.sort_index(inplace=True)"
   ]
  },
  {
   "cell_type": "code",
   "execution_count": 7,
   "metadata": {
    "collapsed": false,
    "deletable": true,
    "editable": true
   },
   "outputs": [],
   "source": [
    "NATURE_dummied=pd.get_dummies(snow_df.NATURE)"
   ]
  },
  {
   "cell_type": "code",
   "execution_count": 8,
   "metadata": {
    "collapsed": false,
    "deletable": true,
    "editable": true
   },
   "outputs": [],
   "source": [
    "plt.rcParams['figure.figsize'] = (10, 10)\n",
    "snow_df=pd.concat([snow_df,NATURE_dummied],axis=1)\n",
    "snow_df=snow_df.resample(\"D\").sum()\n",
    "snow_df=snow_df.fillna(0)\n"
   ]
  },
  {
   "cell_type": "markdown",
   "metadata": {
    "deletable": true,
    "editable": true
   },
   "source": [
    "#  The weather data\n",
    "\n",
    "I'm bringing in the weather data so see how complaints related to the amount of snow that was actually on the ground."
   ]
  },
  {
   "cell_type": "code",
   "execution_count": 9,
   "metadata": {
    "collapsed": false,
    "deletable": true,
    "editable": true
   },
   "outputs": [],
   "source": [
    "weather_data=pd.read_csv(\"../weatherdata.csv\",index_col=\"Datettime\",parse_dates=True)\n",
    "weather_data = weather_data.drop(['Max Temp Flag',\"Unnamed: 10\",\"Unnamed: 11\"], 1)\n",
    "weather_data=weather_data.fillna(0)"
   ]
  },
  {
   "cell_type": "markdown",
   "metadata": {
    "deletable": true,
    "editable": true
   },
   "source": [
    "Here's what it looks like"
   ]
  },
  {
   "cell_type": "code",
   "execution_count": 10,
   "metadata": {
    "collapsed": false,
    "deletable": true,
    "editable": true
   },
   "outputs": [
    {
     "data": {
      "text/html": [
       "<div>\n",
       "<table border=\"1\" class=\"dataframe\">\n",
       "  <thead>\n",
       "    <tr style=\"text-align: right;\">\n",
       "      <th></th>\n",
       "      <th>Max_Temp</th>\n",
       "      <th>Min_Temp</th>\n",
       "      <th>Mean_Temp</th>\n",
       "      <th>Total_Rain_mm</th>\n",
       "      <th>Total_Snow_cm</th>\n",
       "      <th>Total_Precip_mm</th>\n",
       "      <th>Snow_on_Grnd_cm</th>\n",
       "      <th>Dir_of_Max_Gust</th>\n",
       "    </tr>\n",
       "    <tr>\n",
       "      <th>Datettime</th>\n",
       "      <th></th>\n",
       "      <th></th>\n",
       "      <th></th>\n",
       "      <th></th>\n",
       "      <th></th>\n",
       "      <th></th>\n",
       "      <th></th>\n",
       "      <th></th>\n",
       "    </tr>\n",
       "  </thead>\n",
       "  <tbody>\n",
       "    <tr>\n",
       "      <th>2014-01-01</th>\n",
       "      <td>-16.5</td>\n",
       "      <td>-24.6</td>\n",
       "      <td>-20.6</td>\n",
       "      <td>0.0</td>\n",
       "      <td>0.0</td>\n",
       "      <td>0.0</td>\n",
       "      <td>23.0</td>\n",
       "      <td>29.0</td>\n",
       "    </tr>\n",
       "    <tr>\n",
       "      <th>2014-01-02</th>\n",
       "      <td>-22.6</td>\n",
       "      <td>-27.3</td>\n",
       "      <td>-25.0</td>\n",
       "      <td>0.0</td>\n",
       "      <td>1.4</td>\n",
       "      <td>1.4</td>\n",
       "      <td>23.0</td>\n",
       "      <td>2.0</td>\n",
       "    </tr>\n",
       "    <tr>\n",
       "      <th>2014-01-03</th>\n",
       "      <td>-19.2</td>\n",
       "      <td>-24.3</td>\n",
       "      <td>-21.8</td>\n",
       "      <td>0.0</td>\n",
       "      <td>0.0</td>\n",
       "      <td>0.0</td>\n",
       "      <td>21.0</td>\n",
       "      <td>3.0</td>\n",
       "    </tr>\n",
       "    <tr>\n",
       "      <th>2014-01-04</th>\n",
       "      <td>-8.6</td>\n",
       "      <td>-23.3</td>\n",
       "      <td>-16.0</td>\n",
       "      <td>0.0</td>\n",
       "      <td>0.0</td>\n",
       "      <td>0.0</td>\n",
       "      <td>20.0</td>\n",
       "      <td>0.0</td>\n",
       "    </tr>\n",
       "    <tr>\n",
       "      <th>2014-01-05</th>\n",
       "      <td>0.3</td>\n",
       "      <td>-12.6</td>\n",
       "      <td>-6.2</td>\n",
       "      <td>12.2</td>\n",
       "      <td>1.8</td>\n",
       "      <td>14.0</td>\n",
       "      <td>19.0</td>\n",
       "      <td>7.0</td>\n",
       "    </tr>\n",
       "  </tbody>\n",
       "</table>\n",
       "</div>"
      ],
      "text/plain": [
       "            Max_Temp  Min_Temp  Mean_Temp  Total_Rain_mm  Total_Snow_cm  \\\n",
       "Datettime                                                                 \n",
       "2014-01-01     -16.5     -24.6      -20.6            0.0            0.0   \n",
       "2014-01-02     -22.6     -27.3      -25.0            0.0            1.4   \n",
       "2014-01-03     -19.2     -24.3      -21.8            0.0            0.0   \n",
       "2014-01-04      -8.6     -23.3      -16.0            0.0            0.0   \n",
       "2014-01-05       0.3     -12.6       -6.2           12.2            1.8   \n",
       "\n",
       "            Total_Precip_mm  Snow_on_Grnd_cm  Dir_of_Max_Gust  \n",
       "Datettime                                                      \n",
       "2014-01-01              0.0             23.0             29.0  \n",
       "2014-01-02              1.4             23.0              2.0  \n",
       "2014-01-03              0.0             21.0              3.0  \n",
       "2014-01-04              0.0             20.0              0.0  \n",
       "2014-01-05             14.0             19.0              7.0  "
      ]
     },
     "execution_count": 10,
     "metadata": {},
     "output_type": "execute_result"
    }
   ],
   "source": [
    "weather_data.head()"
   ]
  },
  {
   "cell_type": "code",
   "execution_count": 11,
   "metadata": {
    "collapsed": true,
    "deletable": true,
    "editable": true
   },
   "outputs": [],
   "source": [
    "weather_data=weather_data[[\"Snow_on_Grnd_cm\",\"Total_Snow_cm\"]]\n",
    "snow_df=pd.merge(snow_df, weather_data, left_on=[snow_df.index.date],right_on=[weather_data.index.date])\n",
    "snow_df.set_index(pd.DatetimeIndex(snow_df['key_0']),inplace=True)\n",
    "snow_df=snow_df.drop(\"key_0\",1)\n",
    "snow_df=snow_df.resample(\"D\").sum()\n",
    "snow_df.dropna(inplace=True)"
   ]
  },
  {
   "cell_type": "markdown",
   "metadata": {
    "deletable": true,
    "editable": true
   },
   "source": [
    "# Complaints across time\n",
    "\n",
    "(You can change the start date below if you want to zoom in closer to the present)"
   ]
  },
  {
   "cell_type": "code",
   "execution_count": 12,
   "metadata": {
    "collapsed": false,
    "deletable": true,
    "editable": true
   },
   "outputs": [
    {
     "data": {
      "text/plain": [
       "[]"
      ]
     },
     "execution_count": 12,
     "metadata": {},
     "output_type": "execute_result"
    },
    {
     "data": {
      "image/png": "[encoded data removed]",
      "text/plain": [
       "<matplotlib.figure.Figure at 0x1d7bce0cc50>"
      ]
     },
     "metadata": {},
     "output_type": "display_data"
    }
   ],
   "source": [
    "import datetime\n",
    "\n",
    "#as_of=datetime.date(2016, 9, 1)\n",
    "as_of=datetime.date(2014, 1, 1)\n",
    "\n",
    "plt.bar(snow_df[as_of:].index, snow_df[as_of:][\"Everything snow related\"],label=\"Everything snow related\")\n",
    "plt.bar(snow_df[as_of:].index, snow_df[as_of:][\"Snow_on_Grnd_cm\"],label=\"Snow_on_Grnd_cm\",alpha=0.2)\n",
    "plt.legend()\n",
    "plt.plot()\n",
    "#snow_df[[\"Everything snow related\",\"Snow_on_Grnd_cm\"]].plot()"
   ]
  },
  {
   "cell_type": "markdown",
   "metadata": {
    "deletable": true,
    "editable": true
   },
   "source": [
    "# Zooming in...\n",
    "Seeing as we only want to deal with the winter months, we'll keep the months where there was actually some snow and get rid of the rest. \n",
    "\n",
    "\n",
    "# Snow on the ground\n",
    "\n",
    "The weather dataset has two columns dealing with snow. One is Snow_on_Grnd_cm and the other which is a lot more sparse is called Total_Snow_cm. I'm assuming Total_Snow_cm must represent the snowfall or something because the values there tend to be a lot lower and definitely don't include Snow_on_Grnd_cm. "
   ]
  },
  {
   "cell_type": "code",
   "execution_count": 13,
   "metadata": {
    "collapsed": false,
    "deletable": true,
    "editable": true
   },
   "outputs": [],
   "source": [
    "snow_df[\"some_snow\"]=snow_df.Snow_on_Grnd_cm+snow_df.Total_Snow_cm\n",
    "snow_df.some_snow=snow_df.some_snow.apply(lambda x: x>0)\n",
    "snow_df=snow_df[snow_df.some_snow==True]\n",
    "snow_df=snow_df.drop(\"some_snow\",1)"
   ]
  },
  {
   "cell_type": "markdown",
   "metadata": {
    "collapsed": true,
    "deletable": true,
    "editable": true
   },
   "source": [
    "# Dividing up the winters..."
   ]
  },
  {
   "cell_type": "code",
   "execution_count": 14,
   "metadata": {
    "collapsed": false,
    "deletable": true,
    "editable": true
   },
   "outputs": [],
   "source": [
    "\n",
    "def group_by_season(df):\n",
    "    list_of_season=[]\n",
    "        \n",
    "    years=pd.Series(df.index.year)\n",
    "    months=pd.Series(df.index.month)\n",
    "    \n",
    "    month_differences=(years-years.shift())*12+(months-months.shift())\n",
    "    \n",
    "    season_df=pd.Series(month_differences>1)\n",
    "    \n",
    "    indexes=season_df[season_df==True].index\n",
    "    \n",
    "    latest_index=0\n",
    "    for each_index in indexes:\n",
    "        #print(each_index)\n",
    "        list_of_season.append(df.iloc[latest_index:each_index,:])\n",
    "        #print(\"----\")\n",
    "        #print(df.iloc[latest_index,:].index)\n",
    "        #print(df.iloc[each_index,:].index)\n",
    "        latest_index=each_index\n",
    "    \n",
    "    #last part\n",
    "    list_of_season.append(df.iloc[indexes[-1]:,:])\n",
    "    \n",
    "    return list_of_season\n",
    "\n",
    "\n",
    "list_of_dfs=group_by_season(snow_df)\n",
    "\n",
    "\n"
   ]
  },
  {
   "cell_type": "code",
   "execution_count": 15,
   "metadata": {
    "collapsed": false,
    "deletable": true,
    "editable": true
   },
   "outputs": [
    {
     "data": {
      "image/png": "[encoded data removed]",
      "text/plain": [
       "<matplotlib.figure.Figure at 0x1d7b8a36518>"
      ]
     },
     "metadata": {},
     "output_type": "display_data"
    }
   ],
   "source": [
    "plt.title(\"Looking at the past few winters\")\n",
    "\n",
    "plt.subplot(221)\n",
    "\n",
    "for i,each_winter in enumerate(list_of_dfs):\n",
    "    plot_location=221+i\n",
    "    plt.subplot(plot_location)\n",
    "    min_year=each_winter.index.year.min()\n",
    "    max_year=each_winter.index.year.max()\n",
    "    idx=[]\n",
    "    for each in each_winter.index.day:\n",
    "        if each<140: #Jan winter part\n",
    "            each+=365\n",
    "        each-=140\n",
    "        idx.append(each)    \n",
    "    #[\"Everything snow related\"]\n",
    "    \n",
    "\n",
    "    plt.bar(idx, each_winter[\"Everything snow related\"],alpha=0.7,label=\"Complaints of winter of %i - %i\"%(min_year,max_year))\n",
    "    plt.scatter(idx, each_winter[\"Snow_on_Grnd_cm\"],alpha=0.7,label=\"Snow levels of %i - %i\"%(min_year,max_year))\n",
    "    plt.xlim()\n",
    "    plt.legend()\n",
    "    #each_winter.plot()"
   ]
  },
  {
   "cell_type": "markdown",
   "metadata": {
    "deletable": true,
    "editable": true
   },
   "source": [
    "# Here I tried to use plotly, but getting it to animate the simplest of things is near impossible. Gave up. Might try tableau for next post.\n",
    "\n",
    "\n",
    "import plotly\n",
    "import plotly.plotly as py\n",
    "from plotly.grid_objs import Grid, Column\n",
    "\n",
    "import time\n",
    "\n",
    "\n",
    "animation_columns=[]\n",
    "\n",
    "for i,each_winter in enumerate(list_of_dfs):\n",
    "\n",
    "    min_year=each_winter.index.year.min()\n",
    "    max_year=each_winter.index.year.max()\n",
    "    idx=[]\n",
    "    \n",
    "    for each in each_winter.index.day:\n",
    "        if each<140: #Jan winter part\n",
    "            each+=365\n",
    "        each-=140\n",
    "        idx.append(each)    \n",
    "    #[\"Everything snow related\"]\n",
    "\n",
    "    animation_columns.append(Column(idx, 'x%i'%i))\n",
    "    animation_columns.append(Column(each_winter[\"Everything snow related\"], 'y%i'%i))\n",
    "    animation_columns.append(Column(each_winter[\"Snow_on_Grnd_cm\"], 'snow_y%i'%i))\n",
    "\n",
    "grid = Grid(animation_columns)\n",
    "\n",
    "py.grid_ops.upload(grid, 'Saint_Henry_winter'+str(time.time()), auto_open=False)\n",
    "\n",
    "# create figure\n",
    "figure = {\n",
    "    'data': [\n",
    "\n",
    "        {\n",
    "            'xsrc': grid.get_column_reference('x0'),\n",
    "            'ysrc': grid.get_column_reference('y0'),\n",
    "            'mode': 'markers',\n",
    "            'marker': {'color': 'yellow', 'size': 10},\n",
    "            \"type\": 'bar',\n",
    "            \"name\":\"complaints for winter 2013-2014\"\n",
    "        }\n",
    "        ,\n",
    "        {\n",
    "            'xsrc': grid.get_column_reference('x0'),\n",
    "            'ysrc': grid.get_column_reference('snow_y0'),\n",
    "            'mode': 'markers',\n",
    "            'marker': {'color': 'blue', 'size': 10},\n",
    "            \"type\": 'scatter',\n",
    "            \"name\":\"snow levels winter 2013-2014\"\n",
    "        }\n",
    "    ],\n",
    "    \n",
    "    'layout': {'title': 'Winters in county \"Le Sud Ouest\"',\n",
    "               'xaxis': {'range': [0, 2], 'autorange': True},\n",
    "               'yaxis': {'range': [0, 2], 'autorange': True},\n",
    "               'updatemenus': [{\n",
    "                   'buttons': [\n",
    "                       {'args': [],\n",
    "                        'label': 'Play',\n",
    "                        'method': 'animate'\n",
    "                       }\n",
    "                       \n",
    "               ],\n",
    "               'pad': {'r': 10, 't': 87},\n",
    "               'showactive': False,\n",
    "               'type': 'buttons'\n",
    "                }]},\n",
    "    'frames': [\n",
    "        {\n",
    "            'data': [\n",
    "                {\n",
    "                    'xsrc': grid.get_column_reference('x0'),\n",
    "                    'ysrc': grid.get_column_reference('y0'),\n",
    "                    'mode': 'markers',\n",
    "                    'marker': {'color': 'yellow', 'size': 10},\n",
    "                    \"type\": 'bar',\n",
    "                    \"name\":\"complaints for winter 2013-2014\"\n",
    "                }\n",
    "                ,\n",
    "                {\n",
    "                    'xsrc': grid.get_column_reference('x0'),\n",
    "                    'ysrc': grid.get_column_reference('snow_y0'),\n",
    "                    'mode': 'markers',\n",
    "                    \"type\": 'scatter',\n",
    "                    'marker': {'color': 'blue', 'size': 10},\n",
    "                    \"name\":\"snow levels winter 2013-2014\"\n",
    "                }\n",
    "\n",
    "            ],\n",
    "            'data': [\n",
    "                {\n",
    "                    'xsrc': grid.get_column_reference('x1'),\n",
    "                    'ysrc': grid.get_column_reference('y1'),\n",
    "                    'mode': 'markers',\n",
    "                    'marker': {'color': 'yellow', 'size': 10},\n",
    "                    \"type\": 'bar',\n",
    "                    \"name\":\"complaints for winter 2014-2015\"\n",
    "                }\n",
    "                ,\n",
    "                {\n",
    "                    'xsrc': grid.get_column_reference('x1'),\n",
    "                    'ysrc': grid.get_column_reference('snow_y1'),\n",
    "                    'mode': 'markers',\n",
    "                    \"type\": 'scatter',\n",
    "                    'marker': {'color': 'blue', 'size': 10},\n",
    "                    \"name\":\"snow levels winter 2014-2015\"\n",
    "                }\n",
    "\n",
    "            ],\n",
    "        },\n",
    "        {\n",
    "            'data': [\n",
    "                {\n",
    "                    'xsrc': grid.get_column_reference('x2'),\n",
    "                    'ysrc': grid.get_column_reference('y2'),\n",
    "                    'mode': 'markers',\n",
    "                    'marker': {'color': 'yellow', 'size': 10},\n",
    "                    \"type\": 'bar',\n",
    "                    \"name\":\"complaints for winter 2015-2016\"\n",
    "                }\n",
    "                ,\n",
    "                {\n",
    "                    'xsrc': grid.get_column_reference('x2'),\n",
    "                    'ysrc': grid.get_column_reference('snow_y2'),\n",
    "                    'mode': 'markers',\n",
    "                    'marker': {'color': 'blue', 'size': 10},\n",
    "                    \"type\": 'scatter',\n",
    "                    \"name\":\"snow levels winter 2015-2016\"\n",
    "                }\n",
    "            ]\n",
    "        },\n",
    "        {\n",
    "            'data': [\n",
    "                {\n",
    "                    'xsrc': grid.get_column_reference('x3'),\n",
    "                    'ysrc': grid.get_column_reference('y3'),\n",
    "                    'mode': 'markers',\n",
    "                    'marker': {'color': 'yellow', 'size': 10},\n",
    "                    \"type\": 'bar',\n",
    "                    \"name\":\"complaints for winter 2016-2017\"\n",
    "                }\n",
    "                ,\n",
    "                {\n",
    "                    'xsrc': grid.get_column_reference('x3'),\n",
    "                    'ysrc': grid.get_column_reference('snow_y3'),\n",
    "                    'mode': 'markers',\n",
    "                    'marker': {'color': 'blue', 'size': 10},\n",
    "                    \"type\": 'scatter',\n",
    "                    \"name\":\"snow levels winter 2016-2017\"\n",
    "                }\n",
    "            ]\n",
    "        },\n",
    "    ]\n",
    "}\n",
    "\n",
    "\n",
    "py.icreate_animations(figure, 'Saint_Henry_winter'+str(time.time()))"
   ]
  },
  {
   "cell_type": "markdown",
   "metadata": {
    "deletable": true,
    "editable": true
   },
   "source": [
    "# Combining the winter data points into one continuous series"
   ]
  },
  {
   "cell_type": "code",
   "execution_count": 16,
   "metadata": {
    "collapsed": false,
    "deletable": true,
    "editable": true
   },
   "outputs": [],
   "source": [
    "#list_of_dfs\n",
    "combining_all_years=pd.DataFrame()\n",
    "each_winter_idx=[]\n",
    "for each_winter in list_of_dfs:\n",
    "    each_winter=each_winter.reset_index()\n",
    "    if combining_all_years.shape[0]==0:\n",
    "        combining_all_years=each_winter\n",
    "    else:\n",
    "        combining_all_years=pd.concat([combining_all_years,each_winter])\n",
    "    each_winter_idx.append(combining_all_years.shape[0])\n",
    "\n",
    "\n",
    "combining_all_years.reset_index(inplace=True)\n",
    "\n",
    "type_of_snow_data=\"Snow_on_Grnd_cm\" #Snow_on_Grnd_cm Total_Snow_cm\n",
    "\n",
    "combining_all_years[type_of_snow_data].replace(0,combining_all_years[type_of_snow_data].mean(),inplace=True)\n",
    "    \n",
    "combining_all_years=combining_all_years.drop(\"index\",1)\n",
    "\n",
    "\n"
   ]
  },
  {
   "cell_type": "markdown",
   "metadata": {
    "deletable": true,
    "editable": true
   },
   "source": [
    "# Normalizing the snow values\n",
    "\n",
    "One theory could be that there are more complaints when there's more snow. So having more complaints one year could have more to do with the weather than the actual performance of the snow plow company. \n",
    "\n",
    "However I didn't feel small changes in snow levels should affect the number resutls that much.\n",
    "\n",
    "For example if I had divided the complaints by the raw data, 1 complaint / 1 cm = 4 complaints / 4 cm. \n",
    "\n",
    "But clearly just because you have 3 more centimeters of snow shouldn't mean you can have 4X times the complaints.\n",
    "\n",
    "Therefore we'll log the values."
   ]
  },
  {
   "cell_type": "code",
   "execution_count": 17,
   "metadata": {
    "collapsed": false,
    "deletable": true,
    "editable": true
   },
   "outputs": [
    {
     "data": {
      "text/plain": [
       "(array([ 0.07848325,  0.07142857,  0.06790123,  0.05202822,  0.01587302,\n",
       "         0.03262787,  0.02645503,  0.00705467,  0.00176367,  0.00352734]),\n",
       " array([  1. ,   3.8,   6.6,   9.4,  12.2,  15. ,  17.8,  20.6,  23.4,\n",
       "         26.2,  29. ]),\n",
       " <a list of 10 Patch objects>)"
      ]
     },
     "execution_count": 17,
     "metadata": {},
     "output_type": "execute_result"
    },
    {
     "data": {
      "image/png": "[encoded data removed]",
      "text/plain": [
       "<matplotlib.figure.Figure at 0x1d7c0907668>"
      ]
     },
     "metadata": {},
     "output_type": "display_data"
    }
   ],
   "source": [
    "# BEFORE\n",
    "plt.title(\"BEFORE NORMALIZATION\")\n",
    "plt.hist(combining_all_years[type_of_snow_data],normed=True)\n"
   ]
  },
  {
   "cell_type": "code",
   "execution_count": 18,
   "metadata": {
    "collapsed": true,
    "deletable": true,
    "editable": true
   },
   "outputs": [],
   "source": [
    "#normalizing the snow data\n",
    "combining_all_years[type_of_snow_data]=np.log1p(combining_all_years[type_of_snow_data])+1\n",
    "#I put in the plus 1 here because I want a minimum of 1. I'll be dividing the complaints by the snow later."
   ]
  },
  {
   "cell_type": "code",
   "execution_count": 19,
   "metadata": {
    "collapsed": false,
    "deletable": true,
    "editable": true
   },
   "outputs": [
    {
     "data": {
      "text/plain": [
       "(array([ 0.19147301,  0.30088616,  0.31912168,  0.18235525,  0.5561835 ,\n",
       "         0.7020677 ,  0.53794798,  0.41941707,  0.36471049,  0.11853091]),\n",
       " array([ 1.69314718,  1.9639522 ,  2.23475722,  2.50556224,  2.77636726,\n",
       "         3.04717228,  3.3179773 ,  3.58878232,  3.85958734,  4.13039236,\n",
       "         4.40119738]),\n",
       " <a list of 10 Patch objects>)"
      ]
     },
     "execution_count": 19,
     "metadata": {},
     "output_type": "execute_result"
    },
    {
     "data": {
      "image/png": "[encoded data removed]",
      "text/plain": [
       "<matplotlib.figure.Figure at 0x1d7bcb58d68>"
      ]
     },
     "metadata": {},
     "output_type": "display_data"
    }
   ],
   "source": [
    "#After\n",
    "plt.title(\"AFTER NORMALIZATION\")\n",
    "plt.hist(combining_all_years[type_of_snow_data],normed=True)"
   ]
  },
  {
   "cell_type": "markdown",
   "metadata": {
    "deletable": true,
    "editable": true
   },
   "source": [
    "# Defining some measurements"
   ]
  },
  {
   "cell_type": "code",
   "execution_count": 20,
   "metadata": {
    "collapsed": true,
    "deletable": true,
    "editable": true
   },
   "outputs": [],
   "source": [
    "combining_all_years[\"everything_per_snow_cm\"]=combining_all_years[\"Everything snow related\"]/combining_all_years[type_of_snow_data]\n",
    "combining_all_years[\"complaints_per_snow_cm\"]=combining_all_years[\"Plainte\"]/combining_all_years[type_of_snow_data]\n",
    "combining_all_years[\"comments_per_snow_cm\"]=combining_all_years[\"Commentaire\"]/combining_all_years[type_of_snow_data]\n",
    "combining_all_years[\"requests_per_snow_cm\"]=combining_all_years[\"Commentaire\"]/combining_all_years[type_of_snow_data]"
   ]
  },
  {
   "cell_type": "code",
   "execution_count": 21,
   "metadata": {
    "collapsed": false,
    "deletable": true,
    "editable": true
   },
   "outputs": [
    {
     "data": {
      "text/plain": [
       "<matplotlib.legend.Legend at 0x1d7bd8b6940>"
      ]
     },
     "execution_count": 21,
     "metadata": {},
     "output_type": "execute_result"
    },
    {
     "data": {
      "image/png": "[encoded data removed]",
      "text/plain": [
       "<matplotlib.figure.Figure at 0x1d7bcb708d0>"
      ]
     },
     "metadata": {},
     "output_type": "display_data"
    }
   ],
   "source": [
    "\n",
    "winters=[2013,2014,2015,2016]\n",
    "\n",
    "old_index=0\n",
    "plt.subplot(211)\n",
    "for i,each_idx in enumerate(each_winter_idx):\n",
    "    \n",
    "    plt.bar(combining_all_years[old_index:each_idx].index, combining_all_years[old_index:each_idx][\"Everything snow related\"],label=\"winter of %i\"%winters[i])\n",
    "    old_index=each_idx\n",
    "plt.title(\"ALL WINTERS SIDE BY SIDE : CALL INS\")\n",
    "plt.legend()\n",
    "\n",
    "old_index=0\n",
    "plt.subplot(212)\n",
    "for i,each_idx in enumerate(each_winter_idx):\n",
    "    plt.bar(combining_all_years[old_index:each_idx].index, combining_all_years[old_index:each_idx][\"everything_per_snow_cm\"],label=\"winter of %i\"%winters[i])\n",
    "    old_index=each_idx\n",
    "plt.title(\"ALL WINTERS SIDE BY SIDE : CALL INS RELATIVE TO SNOW\")\n",
    "plt.legend()\n",
    "\n",
    "\n",
    "#plt.scatter(combining_all_years.index, combining_all_years[\"Snow_on_Grnd_cm\"],label=\"amount of snow in cm\")"
   ]
  },
  {
   "cell_type": "markdown",
   "metadata": {
    "deletable": true,
    "editable": true
   },
   "source": [
    "# Quick note on the above charts\n",
    "\n",
    "So here we can clearly see that the most recent winter seems to have the largest number of complaints. \n",
    "\n",
    "However when you put it in term of complaints relative to the amount of snow, the most recent year doesn't appear to be as bad as you'd think. The winter of 2014 looks similar to the most recent one.\n",
    "\n",
    "Just out of curiosity let's see what at just the data points that were actually classified as \"complaints\"."
   ]
  },
  {
   "cell_type": "code",
   "execution_count": 22,
   "metadata": {
    "collapsed": false,
    "deletable": true,
    "editable": true
   },
   "outputs": [
    {
     "data": {
      "text/plain": [
       "<matplotlib.legend.Legend at 0x1d7bcb31fd0>"
      ]
     },
     "execution_count": 22,
     "metadata": {},
     "output_type": "execute_result"
    },
    {
     "data": {
      "image/png": "[encoded data removed]",
      "text/plain": [
       "<matplotlib.figure.Figure at 0x1d7bf5c9cc0>"
      ]
     },
     "metadata": {},
     "output_type": "display_data"
    }
   ],
   "source": [
    "old_index=0\n",
    "plt.subplot(211)\n",
    "for i,each_idx in enumerate(each_winter_idx):\n",
    "    plt.bar(combining_all_years[old_index:each_idx].index, combining_all_years[old_index:each_idx][\"Plainte\"],label=\"winter of %i\"%winters[i])\n",
    "    old_index=each_idx\n",
    "plt.title(\"ALL WINTERS SIDE BY SIDE : COMPLAINTS\")\n",
    "plt.legend()\n",
    "\n",
    "old_index=0\n",
    "plt.subplot(212)\n",
    "for i,each_idx in enumerate(each_winter_idx):\n",
    "    plt.bar(combining_all_years[old_index:each_idx].index, combining_all_years[old_index:each_idx][\"complaints_per_snow_cm\"],label=\"winter of %i\"%winters[i])\n",
    "    old_index=each_idx\n",
    "plt.title(\"ALL WINTERS SIDE BY SIDE : COMPLAINTS RELATIVE TO SNOW\")\n",
    "plt.legend()\n"
   ]
  },
  {
   "cell_type": "markdown",
   "metadata": {
    "deletable": true,
    "editable": true
   },
   "source": [
    "Now just looking at what was categorized as complaints, we can clearly see something went wrong during the last winter with or without the snow taken into consideration. Still one could argue that maybe by pure chance more data points were classified as complaints when in fact they could've just been categorized as \"comments\" or \"requests\". \n",
    "\n",
    "So we'll revert back to the catch all combination of all categories and proceed from there.\n",
    "\n"
   ]
  },
  {
   "cell_type": "markdown",
   "metadata": {
    "collapsed": true,
    "deletable": true,
    "editable": true
   },
   "source": [
    "# Monte Carlo Markov Chains (the basic components)\n",
    "\n",
    "# What is it used for?\n",
    "\n",
    "They're used for finding the best distribution that explains the data. It's parameter tuning.\n",
    "\n",
    "# What's Monte Carlo?\n",
    "\n",
    "It's a fancy name that means approximate an integral by a sum of samples that you've simulated. Sometime you'll get these complicated scenarios where solving it analytically can be extremely tedious if not impossible. It's in these cases that you simply run the simulation a bunch of times and take note of the results. After letting your results pile up for a while, you can then get a better sense of the distribution. \n",
    "\n",
    "# What's a Markov Chain?\n",
    "\n",
    "Markov chains is basically the technique by which you will do your sampling. I will not talk about this in-depth here but to be brief it involves transition matrices and matrix of \"states\". \n",
    "\n",
    "Let's say your activities invovle eating and sleeping. When you're eating, the next activity you could be more eating or switching to sleeping. The odds of going from eating to eating again or to sleeping are captured in a vector. Same for the other way around if you were sleeping what are the odds of you continuing to sleep or transitioning to eating, that is also a vector. Combine both of these vectors and you've got a matrix. Your state\n",
    "\n",
    "\n",
    "\n",
    "\n"
   ]
  },
  {
   "cell_type": "code",
   "execution_count": 23,
   "metadata": {
    "collapsed": false,
    "deletable": true,
    "editable": true
   },
   "outputs": [
    {
     "name": "stdout",
     "output_type": "stream",
     "text": [
      "TRANSITION MATRIX\n",
      "[[ 0.3  0.7]\n",
      " [ 0.1  0.9]]\n"
     ]
    }
   ],
   "source": [
    "\n",
    "sleeping=np.array([0.3,0.7])\n",
    "eating=np.array([0.1,0.9])\n",
    "transition_matrix=np.stack([sleeping,eating])\n",
    "initial_state=np.array([1,0])\n",
    "print('TRANSITION MATRIX')\n",
    "print(transition_matrix)\n"
   ]
  },
  {
   "cell_type": "markdown",
   "metadata": {
    "deletable": true,
    "editable": true
   },
   "source": [
    "\n",
    "Take a look at the transition matrix, the first row is for when you're transitioning from the state of sleeping. The second row is for when you are transitioning from the state of eating. So to read the first row is to say, starting in the state of sleeping, there is a 0.3 chance of transitioning to the state of sleeping and a 0.7 chance of transitioning to the state to eating. \n",
    "\n",
    "Below you will see the state vector which is how we represent wether we are eating or sleeping and finally we'll see what it looks like after we taken a few iterations.\n",
    "\n",
    "Eventually, after many iterations, the states converge to a stationary distribution of sorts. This is a kind of \"learning\" that takes place. \n",
    "\n"
   ]
  },
  {
   "cell_type": "code",
   "execution_count": 24,
   "metadata": {
    "collapsed": false,
    "deletable": true,
    "editable": true
   },
   "outputs": [
    {
     "name": "stdout",
     "output_type": "stream",
     "text": [
      "INITIAL STATE MATRIX\n",
      "[1 0]\n",
      "Probabilities of being in each state after 1 turn\n",
      "[ 0.3  0.7]\n",
      "Probabilities of being in each state after 2 turns\n",
      "[ 0.16  0.84]\n",
      "Probabilities of being in each state after 100 turns\n",
      "[ 0.125  0.875]\n",
      "Probabilities of being in each state after 1000 turns\n",
      "[ 0.125  0.875]\n"
     ]
    }
   ],
   "source": [
    "print(\"INITIAL STATE MATRIX\")\n",
    "print(initial_state)\n",
    "\n",
    "print(\"Probabilities of being in each state after 1 turn\")\n",
    "print(np.dot(np.linalg.matrix_power(transition_matrix,1).T,initial_state))\n",
    "\n",
    "print(\"Probabilities of being in each state after 2 turns\")\n",
    "print(np.dot(np.linalg.matrix_power(transition_matrix,2).T,initial_state))\n",
    "\n",
    "print(\"Probabilities of being in each state after 100 turns\")\n",
    "print(np.dot(np.linalg.matrix_power(transition_matrix,100).T,initial_state))\n",
    "\n",
    "print(\"Probabilities of being in each state after 1000 turns\")\n",
    "print(np.dot(np.linalg.matrix_power(transition_matrix,1000).T,initial_state))"
   ]
  },
  {
   "cell_type": "markdown",
   "metadata": {
    "deletable": true,
    "editable": true
   },
   "source": [
    "When we'll be running the MCMC, it's the optimal parameters in the distribution that will be converging.\n",
    "\n",
    "\n",
    "# MCMC (how it all fits together)\n",
    "\n",
    "Let's say you think your data looks like it follows a normal distribution, the parameters you are looking for are the mean and the variance. When do you MCMC, you are hill climbing(optimizing) with all the variables to find the ones that are most likely.\n",
    "\n",
    "MCMC works by doing simulations, lots of and lots of simulation usually in the thousands. At every simulation, the goal is to produce some parameters for you to try and check how good they are at explaining your data.\n",
    "Every step in your optimization generates a datapoint which is your sample.  By data point we mean a trace of your changing parameter values. So if I tried a mean of 5 for one simulation and then a mean of 6, that's two datapoints in my trace for the mean. \n",
    "\n",
    "\n",
    "When doing your steps, there are multiple algos for this, but basically MOST OF THE TIME if your next proposed values don't provide a better answer than the one you currently have, then you remain where you are and create another datapoint with your current values. There is however always a small chance that you will accept the parameter move even if it's a worse answer (this is just so as to be able to explore the whole parameter space). Over time,your parameters will converge to a distribution. \n",
    "\n",
    "At the beginning there's a burn-in sampling where you let the simulation run but you don't record anything because it's still learning. But once the learning is done and the results are more or less consistent, you start collecting the traces which are all the values your parameters have take through time. Those that are more likely will show up more often,\n",
    "\n",
    "\n",
    "Once your simulations are done you can do a histogram of the traces and get an idea for the distribution of the parameter. You then selected the expected value of each parameter's distribution. These will be the parameters you submit for your final model.\n",
    "\n",
    "\n",
    "# Back to snow plowing\n",
    "\n",
    "Let's see if there truly was a difference in service. \n",
    "\n",
    "We'll just be comparing the difference between the last two winters, because that's where the change took place. But you can look at all the data combined if you want by setting \"look_at_whole_data\"= True.\n"
   ]
  },
  {
   "cell_type": "code",
   "execution_count": 25,
   "metadata": {
    "collapsed": false,
    "deletable": true,
    "editable": true
   },
   "outputs": [],
   "source": [
    "look_at_whole_data=False\n",
    "if look_at_whole_data:\n",
    "    last_two_winters=combining_all_years\n",
    "    winter_splitter=each_winter_idx[-2]\n",
    "else:\n",
    "    last_two_winters=combining_all_years[200:]\n",
    "    winter_splitter=each_winter_idx[-2]-200\n",
    "    last_two_winters.reset_index(drop=True,inplace=True)"
   ]
  },
  {
   "cell_type": "code",
   "execution_count": 26,
   "metadata": {
    "collapsed": false,
    "deletable": true,
    "editable": true
   },
   "outputs": [
    {
     "data": {
      "text/plain": [
       "<matplotlib.legend.Legend at 0x1d7bd3a8fd0>"
      ]
     },
     "execution_count": 26,
     "metadata": {},
     "output_type": "execute_result"
    },
    {
     "data": {
      "image/png": "[encoded data removed]",
      "text/plain": [
       "<matplotlib.figure.Figure at 0x1d7c0973358>"
      ]
     },
     "metadata": {},
     "output_type": "display_data"
    }
   ],
   "source": [
    "#Everything snow related everything_per_snow_cm\n",
    "#last_two_winters[\"Everything snow related\"].plot(kind=\"bar\")\n",
    "\n",
    "plt.bar(last_two_winters.index[:winter_splitter],last_two_winters[\"Everything snow related\"].iloc[:winter_splitter],label=\"before\")\n",
    "plt.bar(last_two_winters.index[winter_splitter:],last_two_winters[\"Everything snow related\"].iloc[winter_splitter:],color=\"green\",label=\"after\")\n",
    "plt.legend()"
   ]
  },
  {
   "cell_type": "markdown",
   "metadata": {
    "deletable": true,
    "editable": true
   },
   "source": [
    "Now just by eyeballing it here we can clearly see that the latest winter has gotten more complaints. Still for the sake of the analysis we'll go through with it. These tools will be of use to you when the data is not so clear. "
   ]
  },
  {
   "cell_type": "markdown",
   "metadata": {
    "deletable": true,
    "editable": true
   },
   "source": [
    "\n",
    "# The game plan\n",
    "\n",
    "When trying to replicate the complaints data points, I must first wonder how this data is generated in the first place. \n",
    "\n",
    "When someone calls in to complain, does that cause other people to complain? No.\n",
    "\n",
    "Can the number of complaints PER DAY keep growing? No, while it may spike here and there, ultimately I'm expecting it to always revert to a mean. \n",
    "\n",
    "I founds that there is one distribution that's very well suited for this type of problem. It is called the Poisson distribution.\n",
    "\n",
    "# Poisson distribution properties:\n",
    "\n",
    "    It's increments are independent --> One person complaining won't cause other people to complain. \n",
    "\n",
    "    It's increments are stationary --> The number of people complaining won't grow. Will always revert to a mean.\n",
    "\n",
    "    The expected number of complaints over N periods = N*lambda\n",
    "\n",
    "Lambda indicates expected number of complaints per day.\n",
    "\n",
    "The poisson distribution answers the question, given the EXPECTED number of events per day what are the odds that I get exactly X number of events in a given period. View below for an example.\n"
   ]
  },
  {
   "cell_type": "code",
   "execution_count": 27,
   "metadata": {
    "collapsed": false,
    "deletable": true,
    "editable": true
   },
   "outputs": [
    {
     "data": {
      "text/plain": [
       "<matplotlib.legend.Legend at 0x1d7bff20860>"
      ]
     },
     "execution_count": 27,
     "metadata": {},
     "output_type": "execute_result"
    },
    {
     "data": {
      "image/png": "[encoded data removed]",
      "text/plain": [
       "<matplotlib.figure.Figure at 0x1d7c07ea908>"
      ]
     },
     "metadata": {},
     "output_type": "display_data"
    }
   ],
   "source": [
    "\n",
    "lambda_=5\n",
    "some_poisson_data=stats.poisson.rvs(lambda_,size=200)\n",
    "x = np.linspace(0, 1, 200)\n",
    "plt.hist(some_poisson_data, histtype='stepfilled', bins=10, alpha=0.85,label=\"example of poisson distribution with lambda = %i\"%lambda_,normed=True)\n",
    "plt.legend()\n"
   ]
  },
  {
   "cell_type": "markdown",
   "metadata": {
    "deletable": true,
    "editable": true
   },
   "source": [
    "# Finding Lambda\n",
    "\n",
    "Now how do I find lambda for my poisson model? \n",
    "\n",
    "Well this may sound crazy but I will try to figure out lambda by sampling it from ANOTHER distribution. \n",
    "\n",
    "So what distribution could be best describe lambda? \n",
    "\n",
    "Well lambda is always positive and one distribution that has a special relationship with the poisson distribution is the exponential distribution. \n",
    "\n",
    "While poisson gives us the probability of X events per period, the exponential one gives us the probability of 1 event occuring within the next X periods. \n",
    "\n",
    "It's parameter is actually 1/lambda!\n",
    "\n",
    "Now finally, let's see the actual implementation.\n"
   ]
  },
  {
   "cell_type": "code",
   "execution_count": 32,
   "metadata": {
    "collapsed": false,
    "deletable": true,
    "editable": true,
    "scrolled": true
   },
   "outputs": [
    {
     "name": "stderr",
     "output_type": "stream",
     "text": [
      "100%|██████████████████████████████████████████████████████████████████████████| 15000/15000 [00:04<00:00, 3275.07it/s]\n"
     ]
    },
    {
     "ename": "TypeError",
     "evalue": "'int' object is not subscriptable",
     "output_type": "error",
     "traceback": [
      "\u001b[0;31m---------------------------------------------------------------------------\u001b[0m",
      "\u001b[0;31mTypeError\u001b[0m                                 Traceback (most recent call last)",
      "\u001b[0;32m<ipython-input-32-ba21a8b31000>\u001b[0m in \u001b[0;36m<module>\u001b[0;34m()\u001b[0m\n\u001b[1;32m     60\u001b[0m          \u001b[0mlabel\u001b[0m\u001b[1;33m=\u001b[0m\u001b[1;34mr\"posterior of $\\tau$\"\u001b[0m\u001b[1;33m,\u001b[0m\u001b[1;33m\u001b[0m\u001b[0m\n\u001b[1;32m     61\u001b[0m          color=\"#467821\", weights=w, rwidth=2.)\n\u001b[0;32m---> 62\u001b[0;31m \u001b[0mplt\u001b[0m\u001b[1;33m.\u001b[0m\u001b[0mxticks\u001b[0m\u001b[1;33m(\u001b[0m\u001b[0mnp\u001b[0m\u001b[1;33m.\u001b[0m\u001b[0marange\u001b[0m\u001b[1;33m(\u001b[0m\u001b[0mn_count_data\u001b[0m\u001b[1;33m[\u001b[0m\u001b[1;33m:\u001b[0m\u001b[1;33m:\u001b[0m\u001b[1;36m4\u001b[0m\u001b[1;33m]\u001b[0m\u001b[1;33m)\u001b[0m\u001b[1;33m)\u001b[0m\u001b[1;33m\u001b[0m\u001b[0m\n\u001b[0m\u001b[1;32m     63\u001b[0m \u001b[1;33m\u001b[0m\u001b[0m\n\u001b[1;32m     64\u001b[0m \u001b[0mplt\u001b[0m\u001b[1;33m.\u001b[0m\u001b[0mlegend\u001b[0m\u001b[1;33m(\u001b[0m\u001b[0mloc\u001b[0m\u001b[1;33m=\u001b[0m\u001b[1;34m\"upper left\"\u001b[0m\u001b[1;33m)\u001b[0m\u001b[1;33m\u001b[0m\u001b[0m\n",
      "\u001b[0;31mTypeError\u001b[0m: 'int' object is not subscriptable"
     ]
    },
    {
     "data": {
      "image/png": "[encoded data removed]",
      "text/plain": [
       "<matplotlib.figure.Figure at 0x1d7c2c9eda0>"
      ]
     },
     "metadata": {},
     "output_type": "display_data"
    }
   ],
   "source": [
    "#average number of comments\n",
    "chosen_variable=\"Everything snow related\"\n",
    "\n",
    "average_lamba=last_two_winters[chosen_variable].mean() \n",
    "number_of_datapoints=last_two_winters.shape[0]\n",
    "\n",
    "import pymc3 as pm\n",
    "\n",
    "\n",
    "with pm.Model() as model:\n",
    "    \n",
    "    alpha=1/average_lamba\n",
    "    \n",
    "    lambda1=pm.Exponential(\"lambda1\",alpha)\n",
    "    lambda2=pm.Exponential(\"lambda2\",alpha)\n",
    "    \n",
    "    tau=pm.DiscreteUniform(\"tau\",lower=0,upper=number_of_datapoints-1)\n",
    "    \n",
    "    idx = np.arange(number_of_datapoints) # Index\n",
    "    lambda_ = pm.math.switch(tau >= idx, lambda1, lambda2)\n",
    "\n",
    "    #the last part of your model must always have a link to your data\n",
    "    observation = pm.Poisson(\"obs\", lambda_, observed=last_two_winters[chosen_variable])\n",
    "    \n",
    "    step = pm.Metropolis()\n",
    "    trace = pm.sample(10000, tune=5000,step=step)\n",
    "    \n",
    "lambda_1_samples = trace['lambda1']\n",
    "lambda_2_samples = trace['lambda2']\n",
    "tau_samples = trace['tau']\n",
    "\n",
    "#figsize(12.5, 10)\n",
    "#histogram of the samples:\n",
    "\n",
    "n_count_data=last_two_winters[chosen_variable].shape[0]\n",
    "count_data=last_two_winters[chosen_variable]\n",
    "\n",
    "ax = plt.subplot(311)\n",
    "ax.set_autoscaley_on(False)\n",
    "\n",
    "plt.hist(lambda_1_samples, histtype='stepfilled', bins=30, alpha=0.85,\n",
    "         label=\"posterior of $\\lambda_1$\", color=\"#A60628\", normed=True)\n",
    "plt.legend(loc=\"upper left\")\n",
    "plt.title(r\"\"\"Posterior distributions of the variables\n",
    "    $\\lambda_1,\\;\\lambda_2,\\;\\tau$\"\"\")\n",
    "#plt.xlim([15, 30])\n",
    "plt.xlabel(\"$\\lambda_1$ value\")\n",
    "\n",
    "ax = plt.subplot(312)\n",
    "ax.set_autoscaley_on(False)\n",
    "plt.hist(lambda_2_samples, histtype='stepfilled', bins=30, alpha=0.85,\n",
    "         label=\"posterior of $\\lambda_2$\", color=\"#7A68A6\", normed=True)\n",
    "plt.legend(loc=\"upper left\")\n",
    "#plt.xlim([15, 30])\n",
    "plt.xlabel(\"$\\lambda_2$ value\")\n",
    "\n",
    "plt.subplot(313)\n",
    "w = 1.0 / tau_samples.shape[0] * np.ones_like(tau_samples)\n",
    "plt.hist(tau_samples, bins=n_count_data, alpha=1,\n",
    "         label=r\"posterior of $\\tau$\",\n",
    "         color=\"#467821\", weights=w, rwidth=2.)\n",
    "plt.xticks(np.arange(n_count_data[::4]))\n",
    "\n",
    "plt.legend(loc=\"upper left\")\n",
    "plt.ylim([0, .75])\n",
    "#plt.xlim([35, len(count_data)-20])\n",
    "plt.xlabel(r\"$\\tau$ (in days)\")\n",
    "plt.ylabel(\"probability\");"
   ]
  },
  {
   "cell_type": "markdown",
   "metadata": {
    "deletable": true,
    "editable": true
   },
   "source": [
    "# Some analysis...\n",
    "In the above case we wanted to check if there was a clear difference between the last two winters. In terms of models this means can we model this as two poisson distributions with clearly different lambdas? \n",
    "\n",
    "The answer is a very strong yes. \n",
    "\n",
    "In the first grid you'll notice that while the first lambda has a wider range of possibilities, it will always be less than 2. The second lambda on the other hand has a much narrower range of possibilities but around the value of 3.5. So this means on average we can expect 3.5 complaints per day during our last winter as opposed to fewer than 2 per day in the previous winter.\n",
    "\n",
    "But what really makes it clear is the third graph. While we told the model that there'd be two lambdas we didn't tell it where it should \"switch\" between one model to another. We let the model figure it out. In this case we can see clearly that there is very little doubt as to what day it is. Let's see what that looks like when plotted against the past few winters.\n"
   ]
  },
  {
   "cell_type": "code",
   "execution_count": 29,
   "metadata": {
    "collapsed": false,
    "deletable": true,
    "editable": true
   },
   "outputs": [
    {
     "data": {
      "text/plain": [
       "<matplotlib.legend.Legend at 0x1d7c34aea90>"
      ]
     },
     "execution_count": 29,
     "metadata": {},
     "output_type": "execute_result"
    },
    {
     "data": {
      "image/png": "[encoded data removed]",
      "text/plain": [
       "<matplotlib.figure.Figure at 0x1d7c4908470>"
      ]
     },
     "metadata": {},
     "output_type": "display_data"
    }
   ],
   "source": [
    "\n",
    "\n",
    "counts = np.bincount(tau_samples)\n",
    "switch_day=np.argmax(counts)\n",
    "\n",
    "\n",
    "plt.bar(last_two_winters.index[:winter_splitter],last_two_winters[chosen_variable].iloc[:winter_splitter],label=\"before\")\n",
    "plt.vlines(switch_day, 0, 60, linestyle=\"--\",label=\"CHANGE DETECTED\")\n",
    "plt.bar(last_two_winters.index[winter_splitter:],last_two_winters[chosen_variable].iloc[winter_splitter:],color=\"green\",label=\"after\")\n",
    "plt.legend()\n",
    "\n",
    "\n"
   ]
  },
  {
   "cell_type": "markdown",
   "metadata": {
    "deletable": true,
    "editable": true
   },
   "source": [
    "So it's not spot on, but still pretty good right? With this we can objectively say that there was a real difference."
   ]
  },
  {
   "cell_type": "markdown",
   "metadata": {
    "deletable": true,
    "editable": true
   },
   "source": [
    "# Would be it be different for the amount of snow taken into consideration?\n"
   ]
  },
  {
   "cell_type": "code",
   "execution_count": 33,
   "metadata": {
    "collapsed": false,
    "deletable": true,
    "editable": true
   },
   "outputs": [
    {
     "name": "stderr",
     "output_type": "stream",
     "text": [
      "100%|██████████████████████████████████████████████████████████████████████████| 15000/15000 [00:04<00:00, 3142.06it/s]\n"
     ]
    },
    {
     "ename": "TypeError",
     "evalue": "'int' object is not subscriptable",
     "output_type": "error",
     "traceback": [
      "\u001b[0;31m---------------------------------------------------------------------------\u001b[0m",
      "\u001b[0;31mTypeError\u001b[0m                                 Traceback (most recent call last)",
      "\u001b[0;32m<ipython-input-33-6e84e3018950>\u001b[0m in \u001b[0;36m<module>\u001b[0;34m()\u001b[0m\n\u001b[1;32m     63\u001b[0m          \u001b[0mlabel\u001b[0m\u001b[1;33m=\u001b[0m\u001b[1;34mr\"posterior of $\\tau$\"\u001b[0m\u001b[1;33m,\u001b[0m\u001b[1;33m\u001b[0m\u001b[0m\n\u001b[1;32m     64\u001b[0m          color=\"#467821\", weights=w, rwidth=2.)\n\u001b[0;32m---> 65\u001b[0;31m \u001b[0mplt\u001b[0m\u001b[1;33m.\u001b[0m\u001b[0mxticks\u001b[0m\u001b[1;33m(\u001b[0m\u001b[0mnp\u001b[0m\u001b[1;33m.\u001b[0m\u001b[0marange\u001b[0m\u001b[1;33m(\u001b[0m\u001b[0mn_count_data\u001b[0m\u001b[1;33m[\u001b[0m\u001b[1;33m:\u001b[0m\u001b[1;33m:\u001b[0m\u001b[1;36m4\u001b[0m\u001b[1;33m]\u001b[0m\u001b[1;33m)\u001b[0m\u001b[1;33m)\u001b[0m\u001b[1;33m\u001b[0m\u001b[0m\n\u001b[0m\u001b[1;32m     66\u001b[0m \u001b[1;33m\u001b[0m\u001b[0m\n\u001b[1;32m     67\u001b[0m \u001b[0mplt\u001b[0m\u001b[1;33m.\u001b[0m\u001b[0mlegend\u001b[0m\u001b[1;33m(\u001b[0m\u001b[0mloc\u001b[0m\u001b[1;33m=\u001b[0m\u001b[1;34m\"upper left\"\u001b[0m\u001b[1;33m)\u001b[0m\u001b[1;33m\u001b[0m\u001b[0m\n",
      "\u001b[0;31mTypeError\u001b[0m: 'int' object is not subscriptable"
     ]
    },
    {
     "data": {
      "image/png": "[encoded data removed]",
      "text/plain": [
       "<matplotlib.figure.Figure at 0x1d7c3872e80>"
      ]
     },
     "metadata": {},
     "output_type": "display_data"
    }
   ],
   "source": [
    "#average number of comments\n",
    "\n",
    "chosen_variable=\"everything_per_snow_cm\"\n",
    "\n",
    "average_lamba=last_two_winters[chosen_variable].mean() \n",
    "number_of_datapoints=last_two_winters.shape[0]\n",
    "\n",
    "import pymc3 as pm\n",
    "import scipy.stats as stats\n",
    "\n",
    "with pm.Model() as model:\n",
    "    \n",
    "    alpha=1/average_lamba\n",
    "    \n",
    "    lambda1=pm.Exponential(\"lambda1\",alpha)\n",
    "    lambda2=pm.Exponential(\"lambda2\",alpha)\n",
    "    \n",
    "    tau=pm.DiscreteUniform(\"tau\",lower=0,upper=number_of_datapoints-1)\n",
    "    \n",
    "    idx = np.arange(number_of_datapoints) # Index\n",
    "    lambda_ = pm.math.switch(tau >= idx, lambda1, lambda2)\n",
    "\n",
    "    #the last part of your model must always have a link to your data\n",
    "    observation = pm.Poisson(\"obs\", lambda_, observed=last_two_winters[chosen_variable])\n",
    "    \n",
    "    step = pm.Metropolis()\n",
    "    trace = pm.sample(10000, tune=5000,step=step)\n",
    "    \n",
    "lambda_1_samples = trace['lambda1']\n",
    "lambda_2_samples = trace['lambda2']\n",
    "tau_samples = trace['tau']\n",
    "\n",
    "\n",
    "\n",
    "#figsize(12.5, 10)\n",
    "#histogram of the samples:\n",
    "\n",
    "n_count_data=last_two_winters[chosen_variable].shape[0]\n",
    "count_data=last_two_winters[chosen_variable]\n",
    "\n",
    "ax = plt.subplot(311)\n",
    "ax.set_autoscaley_on(False)\n",
    "\n",
    "plt.hist(lambda_1_samples, histtype='stepfilled', bins=30, alpha=0.85,\n",
    "         label=\"posterior of $\\lambda_1$\", color=\"#A60628\", normed=True)\n",
    "plt.legend(loc=\"upper left\")\n",
    "plt.title(r\"\"\"Posterior distributions of the variables\n",
    "    $\\lambda_1,\\;\\lambda_2,\\;\\tau$\"\"\")\n",
    "#plt.xlim([15, 30])\n",
    "plt.xlabel(\"$\\lambda_1$ value\")\n",
    "\n",
    "ax = plt.subplot(312)\n",
    "ax.set_autoscaley_on(False)\n",
    "plt.hist(lambda_2_samples, histtype='stepfilled', bins=30, alpha=0.85,\n",
    "         label=\"posterior of $\\lambda_2$\", color=\"#7A68A6\", normed=True)\n",
    "plt.legend(loc=\"upper left\")\n",
    "#plt.xlim([15, 30])\n",
    "plt.xlabel(\"$\\lambda_2$ value\")\n",
    "\n",
    "plt.subplot(313)\n",
    "w = 1.0 / tau_samples.shape[0] * np.ones_like(tau_samples)\n",
    "plt.hist(tau_samples, bins=n_count_data, alpha=1,\n",
    "         label=r\"posterior of $\\tau$\",\n",
    "         color=\"#467821\", weights=w, rwidth=2.)\n",
    "plt.xticks(np.arange(n_count_data[::4]))\n",
    "\n",
    "plt.legend(loc=\"upper left\")\n",
    "plt.ylim([0, .75])\n",
    "plt.xlim([35, len(count_data)-20])\n",
    "plt.xlabel(r\"$\\tau$ (in days)\")\n",
    "plt.ylabel(\"probability\");\n"
   ]
  },
  {
   "cell_type": "markdown",
   "metadata": {
    "deletable": true,
    "editable": true
   },
   "source": [
    "Looking at the third table above we can see that once we take the snow into account, it's no longer as clear cut as before. "
   ]
  },
  {
   "cell_type": "code",
   "execution_count": 31,
   "metadata": {
    "collapsed": false,
    "deletable": true,
    "editable": true
   },
   "outputs": [
    {
     "data": {
      "text/plain": [
       "<matplotlib.legend.Legend at 0x1d7c3365e48>"
      ]
     },
     "execution_count": 31,
     "metadata": {},
     "output_type": "execute_result"
    },
    {
     "data": {
      "image/png": "[encoded data removed]",
      "text/plain": [
       "<matplotlib.figure.Figure at 0x1d7c533b240>"
      ]
     },
     "metadata": {},
     "output_type": "display_data"
    }
   ],
   "source": [
    "\n",
    "counts = np.bincount(tau_samples)\n",
    "switch_day=np.argmax(counts)\n",
    "\n",
    "\n",
    "plt.bar(last_two_winters.index[:winter_splitter],last_two_winters[chosen_variable].iloc[:winter_splitter],label=\"before\")\n",
    "plt.vlines(switch_day, 0, 5, linestyle=\"--\",label=\"CHANGE DETECTED\")\n",
    "plt.bar(last_two_winters.index[winter_splitter:],last_two_winters[chosen_variable].iloc[winter_splitter:],color=\"green\",label=\"after\")\n",
    "plt.legend()\n",
    "\n",
    "\n"
   ]
  },
  {
   "cell_type": "markdown",
   "metadata": {
    "deletable": true,
    "editable": true
   },
   "source": [
    "# Some analysis...\n",
    "\n",
    "While it still detects that if there were a change it would definitely be in the second winter (as none of the \"switch dates\" refer to the first winter's timespan) it's less clear as to when exactly that would be. All of the likely switch dates are actually halfway across the second winter's term. This means that if the model had to make a guess, the snow plowing company's performance for last winter's first half was probably no different than that of the previous winter.."
   ]
  },
  {
   "cell_type": "markdown",
   "metadata": {
    "deletable": true,
    "editable": true
   },
   "source": [
    "That's it for this post, hope it was informative!"
   ]
  },
  {
   "cell_type": "code",
   "execution_count": null,
   "metadata": {
    "collapsed": true,
    "deletable": true,
    "editable": true
   },
   "outputs": [],
   "source": []
  }
 ],
 "metadata": {
  "kernelspec": {
   "display_name": "Python 3",
   "language": "python",
   "name": "python3"
  },
  "language_info": {
   "codemirror_mode": {
    "name": "ipython",
    "version": 3
   },
   "file_extension": ".py",
   "mimetype": "text/x-python",
   "name": "python",
   "nbconvert_exporter": "python",
   "pygments_lexer": "ipython3",
   "version": "3.6.1rc1"
  }
 },
 "nbformat": 4,
 "nbformat_minor": 2
}
