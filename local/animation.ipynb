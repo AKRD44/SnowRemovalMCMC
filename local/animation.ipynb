{
 "cells": [
  {
   "cell_type": "code",
   "execution_count": 1,
   "metadata": {
    "collapsed": true,
    "deletable": true,
    "editable": true
   },
   "outputs": [],
   "source": [
    "import plotly\n",
    "import plotly.plotly as py\n",
    "from plotly.grid_objs import Grid, Column\n",
    "\n",
    "import time\n",
    "\n"
   ]
  },
  {
   "cell_type": "code",
   "execution_count": 2,
   "metadata": {
    "collapsed": false,
    "deletable": true,
    "editable": true
   },
   "outputs": [
    {
     "data": {
      "text/plain": [
       "'https://plot.ly/~ak_rd/13/'"
      ]
     },
     "execution_count": 2,
     "metadata": {},
     "output_type": "execute_result"
    }
   ],
   "source": [
    "column_1 = Column([0.5], 'x')\n",
    "column_2 = Column([0.5], 'y')\n",
    "column_3 = Column([1.5], 'x2')\n",
    "column_4 = Column([1.5], 'y2')\n",
    "\n",
    "\n",
    "grid = Grid([column_1, column_2, column_3, column_4])\n",
    "#grids must have unique names which is why we usually add a timestamp\n",
    "py.grid_ops.upload(grid, 'ping_pong_grid'+str(time.time()), auto_open=False)"
   ]
  },
  {
   "cell_type": "code",
   "execution_count": 1,
   "metadata": {
    "collapsed": false,
    "deletable": true,
    "editable": true
   },
   "outputs": [
    {
     "ename": "NameError",
     "evalue": "name 'grid' is not defined",
     "output_type": "error",
     "traceback": [
      "\u001b[1;31m---------------------------------------------------------------------------\u001b[0m",
      "\u001b[1;31mNameError\u001b[0m                                 Traceback (most recent call last)",
      "\u001b[1;32m<ipython-input-1-7485fe2197ad>\u001b[0m in \u001b[0;36m<module>\u001b[1;34m()\u001b[0m\n\u001b[0;32m      2\u001b[0m     'data': [ # this initial data is just the default start that people see BEFORE they press the play button\n\u001b[0;32m      3\u001b[0m         {\n\u001b[1;32m----> 4\u001b[1;33m             \u001b[1;34m'xsrc'\u001b[0m\u001b[1;33m:\u001b[0m \u001b[0mgrid\u001b[0m\u001b[1;33m.\u001b[0m\u001b[0mget_column_reference\u001b[0m\u001b[1;33m(\u001b[0m\u001b[1;34m'x'\u001b[0m\u001b[1;33m)\u001b[0m\u001b[1;33m,\u001b[0m\u001b[1;33m\u001b[0m\u001b[0m\n\u001b[0m\u001b[0;32m      5\u001b[0m             \u001b[1;34m'ysrc'\u001b[0m\u001b[1;33m:\u001b[0m \u001b[0mgrid\u001b[0m\u001b[1;33m.\u001b[0m\u001b[0mget_column_reference\u001b[0m\u001b[1;33m(\u001b[0m\u001b[1;34m'y'\u001b[0m\u001b[1;33m)\u001b[0m\u001b[1;33m,\u001b[0m\u001b[1;33m\u001b[0m\u001b[0m\n\u001b[0;32m      6\u001b[0m             \u001b[1;34m'mode'\u001b[0m\u001b[1;33m:\u001b[0m \u001b[1;34m'markers'\u001b[0m\u001b[1;33m,\u001b[0m\u001b[1;33m\u001b[0m\u001b[0m\n",
      "\u001b[1;31mNameError\u001b[0m: name 'grid' is not defined"
     ]
    }
   ],
   "source": [
    "figure = {\n",
    "    'data': [ # this initial data is just the default start that people see BEFORE they press the play button\n",
    "        {\n",
    "            'xsrc': grid.get_column_reference('x'),\n",
    "            'ysrc': grid.get_column_reference('y'),\n",
    "            'mode': 'markers',\n",
    "        }\n",
    "    ],\n",
    "    'layout': {'title': 'Ping Pong Animation',\n",
    "               'xaxis': {'range': [0, 2], 'autorange': False},\n",
    "               'yaxis': {'range': [0, 2], 'autorange': False},\n",
    "               #updatemenus is where you set all the buttons, play/pause whatever\n",
    "               'updatemenus': [{\n",
    "                   'buttons': [\n",
    "                       {'args': [None],\n",
    "                        'label': 'whatever i want',\n",
    "                        'method': 'animate'}  #this is where you tell it that the button will animate.\n",
    "               ],\n",
    "               'pad': {'r': 10, 't': 87},\n",
    "               'showactive': False,\n",
    "               'type': 'buttons'\n",
    "                }]},\n",
    "    'frames': [\n",
    "        {\n",
    "            'data': [\n",
    "                {\n",
    "                    'xsrc': grid.get_column_reference('x2'),\n",
    "                    'ysrc': grid.get_column_reference('y2'),\n",
    "                    'mode': 'markers',\n",
    "                }\n",
    "            ]\n",
    "        },\n",
    "        {\n",
    "            'data': [\n",
    "                {\n",
    "                    'xsrc': grid.get_column_reference('x'),\n",
    "                    'ysrc': grid.get_column_reference('y'),\n",
    "                    'mode': 'markers',\n",
    "                }\n",
    "            ]\n",
    "        }\n",
    "    ]\n",
    "}\n",
    "\n",
    "\n",
    "py.icreate_animations(figure, 'ping_pong'+str(time.time()))"
   ]
  },
  {
   "cell_type": "code",
   "execution_count": 4,
   "metadata": {
    "collapsed": false,
    "deletable": true,
    "editable": true
   },
   "outputs": [
    {
     "data": {
      "text/html": [
       "<iframe id=\"igraph\" scrolling=\"no\" style=\"border:none;\" seamless=\"seamless\" src=\"https://plot.ly/~ak_rd/16.embed\" height=\"525px\" width=\"100%\"></iframe>"
      ],
      "text/plain": [
       "<plotly.tools.PlotlyDisplay object>"
      ]
     },
     "execution_count": 4,
     "metadata": {},
     "output_type": "execute_result"
    }
   ],
   "source": [
    "column_1 = Column([0.9, 1.1], 'x')\n",
    "column_2 = Column([1.0, 1.0], 'y')\n",
    "column_3 = Column([0.8, 1.2], 'x2')\n",
    "column_4 = Column([1.2, 0.8], 'y2')\n",
    "column_5 = Column([0.7, 1.3], 'x3')\n",
    "column_6 = Column([0.7, 1.3], 'y3')\n",
    "column_7 = Column([0.6, 1.4], 'x4')\n",
    "column_8 = Column([1.5, 0.5], 'y4')\n",
    "column_9 = Column([0.4, 1.6], 'x5')\n",
    "column_10 = Column([1.2, 0.8], 'y5')\n",
    "\n",
    "grid = Grid([column_1, column_2, column_3, column_4, column_5,\n",
    "             column_6, column_7, column_8, column_9, column_10])\n",
    "py.grid_ops.upload(grid, 'points_changing_size_grid'+str(time.time()), auto_open=False)\n",
    "\n",
    "# create figure\n",
    "figure = {\n",
    "    'data': [\n",
    "        {\n",
    "            'xsrc': grid.get_column_reference('x'),\n",
    "            'ysrc': grid.get_column_reference('y'),\n",
    "            'mode': 'markers',\n",
    "            'marker': {'color': '#48186a', 'size': 10}\n",
    "        }\n",
    "    ],\n",
    "    'layout': {'title': 'Growing Circles',\n",
    "               'xaxis': {'range': [0, 2], 'autorange': False},\n",
    "               'yaxis': {'range': [0, 2], 'autorange': False},\n",
    "               'updatemenus': [{\n",
    "                   'buttons': [\n",
    "                       {'args': [None],\n",
    "                        'label': 'Play',\n",
    "                        'method': 'animate'}\n",
    "               ],\n",
    "               'pad': {'r': 10, 't': 87},\n",
    "               'showactive': False,\n",
    "               'type': 'buttons'\n",
    "                }]},\n",
    "    'frames': [\n",
    "        {\n",
    "            'data': [\n",
    "                {\n",
    "                    'xsrc': grid.get_column_reference('x2'),\n",
    "                    'ysrc': grid.get_column_reference('y2'),\n",
    "                    'mode': 'markers',\n",
    "                    'marker': {'color': '#3b528b', 'size': 25}\n",
    "                }\n",
    "            ]\n",
    "        },\n",
    "        {\n",
    "            'data': [\n",
    "                {\n",
    "                    'xsrc': grid.get_column_reference('x3'),\n",
    "                    'ysrc': grid.get_column_reference('y3'),\n",
    "                    'mode': 'markers',\n",
    "                    'marker': {'color': '#26828e', 'size': 50}\n",
    "                }\n",
    "            ]\n",
    "        },\n",
    "        {\n",
    "            'data': [\n",
    "                {\n",
    "                    'xsrc': grid.get_column_reference('x4'),\n",
    "                    'ysrc': grid.get_column_reference('y4'),\n",
    "                    'mode': 'markers',\n",
    "                    'marker': {'color': '#5ec962', 'size': 80}\n",
    "                }\n",
    "            ]\n",
    "        },\n",
    "        {\n",
    "            'data': [\n",
    "                {\n",
    "                    'xsrc': grid.get_column_reference('x5'),\n",
    "                    'ysrc': grid.get_column_reference('y5'),\n",
    "                    'mode': 'markers',\n",
    "                    'marker': {'color': '#d8e219', 'size': 100}\n",
    "                }\n",
    "            ]\n",
    "        }\n",
    "    ]\n",
    "}\n",
    "\n",
    "py.icreate_animations(figure, 'points_changing_size'+str(time.time()))"
   ]
  },
  {
   "cell_type": "code",
   "execution_count": null,
   "metadata": {
    "collapsed": true,
    "deletable": true,
    "editable": true
   },
   "outputs": [],
   "source": []
  }
 ],
 "metadata": {
  "kernelspec": {
   "display_name": "Python 3",
   "language": "python",
   "name": "python3"
  },
  "language_info": {
   "codemirror_mode": {
    "name": "ipython",
    "version": 3
   },
   "file_extension": ".py",
   "mimetype": "text/x-python",
   "name": "python",
   "nbconvert_exporter": "python",
   "pygments_lexer": "ipython3",
   "version": "3.6.1rc1"
  }
 },
 "nbformat": 4,
 "nbformat_minor": 2
}
