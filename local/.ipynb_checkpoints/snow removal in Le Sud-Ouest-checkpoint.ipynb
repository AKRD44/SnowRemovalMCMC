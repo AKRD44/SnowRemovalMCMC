{
 "cells": [
  {
   "cell_type": "markdown",
   "metadata": {
    "deletable": true,
    "editable": true
   },
   "source": [
    "# Snow removal, dents on cars and Monte Carlo Markov chains\n",
    "\n",
    "My brother lives with his girlfriend in Saint-Henry and one day they were talking to me about how aweful the community's new snow removal service was. Dents on cars, destroyed lawns and snow that just wasn't removed. The community was in uproar and apperently due to the volume of complaints, the local goverment ended up firing the company in charge. \n",
    "\n",
    "So I thought this would be a great real life case to do some A/B testing with Monte Carlo Markov chains! \n",
    "\n",
    "# About the data\n",
    "\n",
    "I'll be using the same montreal 311 data set I had used earlier in a recent hackathon (view earlier post) to look at the number of complaints or \"requests\" pertaining to snow removal. \n",
    "\n",
    "You can get the data for yourself here: http://donnees.ville.montreal.qc.ca/dataset/requete-311\n",
    "\n",
    "First we'll look at the data, see what we can infer right away, then I will introduce you to Monte Carolo Markov Chains and see what they can do for us. "
   ]
  },
  {
   "cell_type": "code",
   "execution_count": 1,
   "metadata": {
    "collapsed": false,
    "deletable": true,
    "editable": true
   },
   "outputs": [],
   "source": [
    "import pandas as pd\n",
    "import matplotlib.pyplot as plt\n",
    "\n",
    "%matplotlib inline\n",
    "\n",
    "import numpy as np\n",
    "\n",
    "import matplotlib\n"
   ]
  },
  {
   "cell_type": "code",
   "execution_count": 2,
   "metadata": {
    "collapsed": false,
    "deletable": true,
    "editable": true
   },
   "outputs": [
    {
     "name": "stdout",
     "output_type": "stream",
     "text": [
      "used smaller csv\n"
     ]
    }
   ],
   "source": [
    "try:\n",
    "    snow_df=pd.read_csv(\"../311snow.csv\",index_col=\"DDS_DATE_CREATION\",parse_dates=True,encoding = \"ISO-8859-1\")\n",
    "    print(\"used smaller csv\")\n",
    "except:\n",
    "    data=pd.read_csv(\"../311data.csv\",index_col=\"DDS_DATE_CREATION\",parse_dates=True)\n",
    "    print(\"used LARGER csv\")\n",
    "    snow_df=data[data.ACTI_NOM.str.contains(\"Neige\")]\n",
    "    #print(data.columns)\n",
    "    #snow_df.sort_index(inplace=True);\n",
    "    #saving smaller df for future reference\n",
    "    snow_df.to_csv(\"../311snow.csv\")"
   ]
  },
  {
   "cell_type": "code",
   "execution_count": 3,
   "metadata": {
    "collapsed": false,
    "deletable": true,
    "editable": true
   },
   "outputs": [
    {
     "data": {
      "text/plain": [
       "Index(['ID_UNIQUE', 'NATURE', 'ACTI_NOM', 'TYPE_LIEU_INTERV', 'RUE',\n",
       "       'RUE_INTERSECTION1', 'RUE_INTERSECTION2', 'LOC_ERREUR_GDT',\n",
       "       'ARRONDISSEMENT', 'ARRONDISSEMENT_GEO', 'LIN_CODE_POSTAL',\n",
       "       'PROVENANCE_ORIGINALE', 'PROVENANCE_TELEPHONE', 'PROVENANCE_COURRIEL',\n",
       "       'PROVENANCE_PERSONNE', 'PROVENANCE_COURRIER', 'PROVENANCE_TELECOPIEUR',\n",
       "       'PROVENANCE_INSTANCE', 'PROVENANCE_MOBILE', 'PROVENANCE_MEDIASOCIAUX',\n",
       "       'PROVENANCE_SITEINTERNET', 'UNITE_RESP_PARENT', 'LOC_LONG', 'LOC_LAT',\n",
       "       'LOC_X', 'LOC_Y'],\n",
       "      dtype='object')"
      ]
     },
     "execution_count": 3,
     "metadata": {},
     "output_type": "execute_result"
    }
   ],
   "source": [
    "snow_df.columns"
   ]
  },
  {
   "cell_type": "code",
   "execution_count": 4,
   "metadata": {
    "collapsed": true,
    "deletable": true,
    "editable": true
   },
   "outputs": [],
   "source": [
    "snow_df=snow_df[snow_df.ARRONDISSEMENT==\"Le Sud-Ouest\"]"
   ]
  },
  {
   "cell_type": "code",
   "execution_count": 5,
   "metadata": {
    "collapsed": false,
    "deletable": true,
    "editable": true
   },
   "outputs": [],
   "source": [
    "snow_df=snow_df[[\"NATURE\",\"ACTI_NOM\"]]"
   ]
  },
  {
   "cell_type": "code",
   "execution_count": 6,
   "metadata": {
    "collapsed": false,
    "deletable": true,
    "editable": true
   },
   "outputs": [],
   "source": [
    "snow_df[\"Everything snow related\"]=1\n",
    "snow_df.sort_index(inplace=True)"
   ]
  },
  {
   "cell_type": "code",
   "execution_count": 7,
   "metadata": {
    "collapsed": false,
    "deletable": true,
    "editable": true
   },
   "outputs": [],
   "source": [
    "NATURE_dummied=pd.get_dummies(snow_df.NATURE)"
   ]
  },
  {
   "cell_type": "code",
   "execution_count": 8,
   "metadata": {
    "collapsed": false,
    "deletable": true,
    "editable": true
   },
   "outputs": [],
   "source": [
    "plt.rcParams['figure.figsize'] = (15, 15)\n",
    "snow_df=pd.concat([snow_df,NATURE_dummied],axis=1)\n",
    "snow_df=snow_df.resample(\"D\").sum()\n",
    "snow_df=snow_df.fillna(0)\n"
   ]
  },
  {
   "cell_type": "code",
   "execution_count": 9,
   "metadata": {
    "collapsed": false,
    "deletable": true,
    "editable": true
   },
   "outputs": [],
   "source": [
    "weather_data=pd.read_csv(\"../weatherdata.csv\",index_col=\"Datettime\",parse_dates=True)\n",
    "weather_data = weather_data.drop(['Max Temp Flag',\"Unnamed: 10\",\"Unnamed: 11\"], 1)\n",
    "weather_data=weather_data.fillna(0)"
   ]
  },
  {
   "cell_type": "code",
   "execution_count": 10,
   "metadata": {
    "collapsed": false,
    "deletable": true,
    "editable": true
   },
   "outputs": [
    {
     "data": {
      "text/html": [
       "<div>\n",
       "<table border=\"1\" class=\"dataframe\">\n",
       "  <thead>\n",
       "    <tr style=\"text-align: right;\">\n",
       "      <th></th>\n",
       "      <th>Max_Temp</th>\n",
       "      <th>Min_Temp</th>\n",
       "      <th>Mean_Temp</th>\n",
       "      <th>Total_Rain_mm</th>\n",
       "      <th>Total_Snow_cm</th>\n",
       "      <th>Total_Precip_mm</th>\n",
       "      <th>Snow_on_Grnd_cm</th>\n",
       "      <th>Dir_of_Max_Gust</th>\n",
       "    </tr>\n",
       "    <tr>\n",
       "      <th>Datettime</th>\n",
       "      <th></th>\n",
       "      <th></th>\n",
       "      <th></th>\n",
       "      <th></th>\n",
       "      <th></th>\n",
       "      <th></th>\n",
       "      <th></th>\n",
       "      <th></th>\n",
       "    </tr>\n",
       "  </thead>\n",
       "  <tbody>\n",
       "    <tr>\n",
       "      <th>2014-01-01</th>\n",
       "      <td>-16.5</td>\n",
       "      <td>-24.6</td>\n",
       "      <td>-20.6</td>\n",
       "      <td>0.0</td>\n",
       "      <td>0.0</td>\n",
       "      <td>0.0</td>\n",
       "      <td>23.0</td>\n",
       "      <td>29.0</td>\n",
       "    </tr>\n",
       "    <tr>\n",
       "      <th>2014-01-02</th>\n",
       "      <td>-22.6</td>\n",
       "      <td>-27.3</td>\n",
       "      <td>-25.0</td>\n",
       "      <td>0.0</td>\n",
       "      <td>1.4</td>\n",
       "      <td>1.4</td>\n",
       "      <td>23.0</td>\n",
       "      <td>2.0</td>\n",
       "    </tr>\n",
       "    <tr>\n",
       "      <th>2014-01-03</th>\n",
       "      <td>-19.2</td>\n",
       "      <td>-24.3</td>\n",
       "      <td>-21.8</td>\n",
       "      <td>0.0</td>\n",
       "      <td>0.0</td>\n",
       "      <td>0.0</td>\n",
       "      <td>21.0</td>\n",
       "      <td>3.0</td>\n",
       "    </tr>\n",
       "    <tr>\n",
       "      <th>2014-01-04</th>\n",
       "      <td>-8.6</td>\n",
       "      <td>-23.3</td>\n",
       "      <td>-16.0</td>\n",
       "      <td>0.0</td>\n",
       "      <td>0.0</td>\n",
       "      <td>0.0</td>\n",
       "      <td>20.0</td>\n",
       "      <td>0.0</td>\n",
       "    </tr>\n",
       "    <tr>\n",
       "      <th>2014-01-05</th>\n",
       "      <td>0.3</td>\n",
       "      <td>-12.6</td>\n",
       "      <td>-6.2</td>\n",
       "      <td>12.2</td>\n",
       "      <td>1.8</td>\n",
       "      <td>14.0</td>\n",
       "      <td>19.0</td>\n",
       "      <td>7.0</td>\n",
       "    </tr>\n",
       "  </tbody>\n",
       "</table>\n",
       "</div>"
      ],
      "text/plain": [
       "            Max_Temp  Min_Temp  Mean_Temp  Total_Rain_mm  Total_Snow_cm  \\\n",
       "Datettime                                                                 \n",
       "2014-01-01     -16.5     -24.6      -20.6            0.0            0.0   \n",
       "2014-01-02     -22.6     -27.3      -25.0            0.0            1.4   \n",
       "2014-01-03     -19.2     -24.3      -21.8            0.0            0.0   \n",
       "2014-01-04      -8.6     -23.3      -16.0            0.0            0.0   \n",
       "2014-01-05       0.3     -12.6       -6.2           12.2            1.8   \n",
       "\n",
       "            Total_Precip_mm  Snow_on_Grnd_cm  Dir_of_Max_Gust  \n",
       "Datettime                                                      \n",
       "2014-01-01              0.0             23.0             29.0  \n",
       "2014-01-02              1.4             23.0              2.0  \n",
       "2014-01-03              0.0             21.0              3.0  \n",
       "2014-01-04              0.0             20.0              0.0  \n",
       "2014-01-05             14.0             19.0              7.0  "
      ]
     },
     "execution_count": 10,
     "metadata": {},
     "output_type": "execute_result"
    }
   ],
   "source": [
    "weather_data.head()"
   ]
  },
  {
   "cell_type": "code",
   "execution_count": 11,
   "metadata": {
    "collapsed": true,
    "deletable": true,
    "editable": true
   },
   "outputs": [],
   "source": [
    "weather_data=weather_data[[\"Snow_on_Grnd_cm\",\"Total_Snow_cm\"]]\n"
   ]
  },
  {
   "cell_type": "code",
   "execution_count": 12,
   "metadata": {
    "collapsed": false,
    "deletable": true,
    "editable": true
   },
   "outputs": [],
   "source": [
    "snow_df=pd.merge(snow_df, weather_data, left_on=[snow_df.index.date],right_on=[weather_data.index.date])\n"
   ]
  },
  {
   "cell_type": "code",
   "execution_count": 13,
   "metadata": {
    "collapsed": true,
    "deletable": true,
    "editable": true
   },
   "outputs": [],
   "source": [
    "snow_df.set_index(pd.DatetimeIndex(snow_df['key_0']),inplace=True)"
   ]
  },
  {
   "cell_type": "code",
   "execution_count": 14,
   "metadata": {
    "collapsed": false,
    "deletable": true,
    "editable": true
   },
   "outputs": [],
   "source": [
    "snow_df=snow_df.drop(\"key_0\",1)"
   ]
  },
  {
   "cell_type": "code",
   "execution_count": 15,
   "metadata": {
    "collapsed": true,
    "deletable": true,
    "editable": true
   },
   "outputs": [],
   "source": [
    "snow_df=snow_df.resample(\"D\").sum()\n",
    "snow_df.dropna(inplace=True)"
   ]
  },
  {
   "cell_type": "code",
   "execution_count": 16,
   "metadata": {
    "collapsed": false,
    "deletable": true,
    "editable": true
   },
   "outputs": [
    {
     "data": {
      "text/plain": [
       "[]"
      ]
     },
     "execution_count": 16,
     "metadata": {},
     "output_type": "execute_result"
    },
    {
     "data": {
      "image/png": "[encoded data removed]",
      "text/plain": [
       "<matplotlib.figure.Figure at 0x2d2570d2748>"
      ]
     },
     "metadata": {},
     "output_type": "display_data"
    }
   ],
   "source": [
    "import datetime\n",
    "\n",
    "#as_of=datetime.date(2016, 9, 1)\n",
    "as_of=datetime.date(2014, 1, 1)\n",
    "\n",
    "\n",
    "\n",
    "plt.bar(snow_df[as_of:].index, snow_df[as_of:][\"Everything snow related\"],label=\"Everything snow related\")\n",
    "plt.bar(snow_df[as_of:].index, snow_df[as_of:][\"Snow_on_Grnd_cm\"],label=\"Snow_on_Grnd_cm\",alpha=0.2)\n",
    "plt.legend()\n",
    "plt.plot()\n",
    "#snow_df[[\"Everything snow related\",\"Snow_on_Grnd_cm\"]].plot()"
   ]
  },
  {
   "cell_type": "code",
   "execution_count": 17,
   "metadata": {
    "collapsed": false,
    "deletable": true,
    "editable": true
   },
   "outputs": [
    {
     "data": {
      "text/plain": [
       "298"
      ]
     },
     "execution_count": 17,
     "metadata": {},
     "output_type": "execute_result"
    }
   ],
   "source": [
    "(snow_df[\"Everything snow related\"]>0).sum() #there are 381 days where was involved snow"
   ]
  },
  {
   "cell_type": "code",
   "execution_count": 18,
   "metadata": {
    "collapsed": false,
    "deletable": true,
    "editable": true
   },
   "outputs": [],
   "source": [
    "snow_df[\"some_snow\"]=snow_df.Snow_on_Grnd_cm+snow_df.Total_Snow_cm"
   ]
  },
  {
   "cell_type": "code",
   "execution_count": 19,
   "metadata": {
    "collapsed": false,
    "deletable": true,
    "editable": true
   },
   "outputs": [],
   "source": [
    "snow_df.some_snow=snow_df.some_snow.apply(lambda x: x>0)"
   ]
  },
  {
   "cell_type": "code",
   "execution_count": 20,
   "metadata": {
    "collapsed": false,
    "deletable": true,
    "editable": true
   },
   "outputs": [],
   "source": [
    "snow_df=snow_df[snow_df.some_snow==True]\n",
    "\n"
   ]
  },
  {
   "cell_type": "code",
   "execution_count": 21,
   "metadata": {
    "collapsed": true,
    "deletable": true,
    "editable": true
   },
   "outputs": [],
   "source": [
    "snow_df=snow_df.drop(\"some_snow\",1)"
   ]
  },
  {
   "cell_type": "code",
   "execution_count": 22,
   "metadata": {
    "collapsed": false,
    "deletable": true,
    "editable": true
   },
   "outputs": [
    {
     "name": "stdout",
     "output_type": "stream",
     "text": [
      "94\n",
      "215\n",
      "296\n"
     ]
    }
   ],
   "source": [
    "\n",
    "def group_by_season(df):\n",
    "    list_of_season=[]\n",
    "        \n",
    "    years=pd.Series(df.index.year)\n",
    "    months=pd.Series(df.index.month)\n",
    "    \n",
    "    month_differences=(years-years.shift())*12+(months-months.shift())\n",
    "    \n",
    "    season_df=pd.Series(month_differences>1)\n",
    "    \n",
    "    indexes=season_df[season_df==True].index\n",
    "    \n",
    "    latest_index=0\n",
    "    for each_index in indexes:\n",
    "        print(each_index)\n",
    "        list_of_season.append(df.iloc[latest_index:each_index,:])\n",
    "        #print(\"----\")\n",
    "        #print(df.iloc[latest_index,:].index)\n",
    "        #print(df.iloc[each_index,:].index)\n",
    "        latest_index=each_index\n",
    "    \n",
    "    #last part\n",
    "    list_of_season.append(df.iloc[indexes[-1]:,:])\n",
    "    \n",
    "    return list_of_season\n",
    "\n",
    "\n",
    "list_of_dfs=group_by_season(snow_df)\n",
    "\n",
    "\n"
   ]
  },
  {
   "cell_type": "code",
   "execution_count": 23,
   "metadata": {
    "collapsed": false,
    "deletable": true,
    "editable": true
   },
   "outputs": [
    {
     "data": {
      "image/png": "[encoded data removed]",
      "text/plain": [
       "<matplotlib.figure.Figure at 0x2d256f7c6a0>"
      ]
     },
     "metadata": {},
     "output_type": "display_data"
    }
   ],
   "source": [
    "plt.title(\"Looking at the past few winters\")\n",
    "\n",
    "for i,each_winter in enumerate(list_of_dfs):\n",
    "    min_year=each_winter.index.year.min()\n",
    "    max_year=each_winter.index.year.max()\n",
    "    idx=[]\n",
    "    for each in each_winter.index.day:\n",
    "        if each<140: #Jan winter part\n",
    "            each+=365\n",
    "        each-=140\n",
    "        idx.append(each)    \n",
    "    #[\"Everything snow related\"]\n",
    "    \n",
    "\n",
    "    plt.bar(idx, each_winter[\"Everything snow related\"],alpha=0.7,label=\"winter of %i - %i\"%(min_year,max_year))\n",
    "    plt.scatter(idx, each_winter[\"Snow_on_Grnd_cm\"],alpha=0.7,label=\"winter of %i - %i\"%(min_year,max_year))\n",
    "    plt.xlim()\n",
    "    plt.legend()\n",
    "    #each_winter.plot()"
   ]
  },
  {
   "cell_type": "code",
   "execution_count": 24,
   "metadata": {
    "collapsed": false,
    "deletable": true,
    "editable": true
   },
   "outputs": [],
   "source": [
    "#list_of_dfs\n",
    "combining_all_years=pd.DataFrame()\n",
    "each_winter_idx=[]\n",
    "for each_winter in list_of_dfs:\n",
    "    each_winter=each_winter.reset_index()\n",
    "    if combining_all_years.shape[0]==0:\n",
    "        combining_all_years=each_winter\n",
    "    else:\n",
    "        combining_all_years=pd.concat([combining_all_years,each_winter])\n",
    "    each_winter_idx.append(combining_all_years.shape[0])\n",
    "\n",
    "\n",
    "combining_all_years.reset_index(inplace=True)\n",
    "\n"
   ]
  },
  {
   "cell_type": "code",
   "execution_count": 25,
   "metadata": {
    "collapsed": true,
    "deletable": true,
    "editable": true
   },
   "outputs": [],
   "source": [
    "type_of_snow_data=\"Snow_on_Grnd_cm\" #Snow_on_Grnd_cm Total_Snow_cm\n",
    "\n",
    "combining_all_years[type_of_snow_data].replace(0,combining_all_years[type_of_snow_data].mean(),inplace=True)\n",
    "    \n",
    "combining_all_years=combining_all_years.drop(\"index\",1)"
   ]
  },
  {
   "cell_type": "code",
   "execution_count": 26,
   "metadata": {
    "collapsed": false,
    "deletable": true,
    "editable": true
   },
   "outputs": [
    {
     "data": {
      "text/html": [
       "<div>\n",
       "<table border=\"1\" class=\"dataframe\">\n",
       "  <thead>\n",
       "    <tr style=\"text-align: right;\">\n",
       "      <th></th>\n",
       "      <th>key_0</th>\n",
       "      <th>Everything snow related</th>\n",
       "      <th>Commentaire</th>\n",
       "      <th>Plainte</th>\n",
       "      <th>Requete</th>\n",
       "      <th>Snow_on_Grnd_cm</th>\n",
       "      <th>Total_Snow_cm</th>\n",
       "    </tr>\n",
       "  </thead>\n",
       "  <tbody>\n",
       "    <tr>\n",
       "      <th>0</th>\n",
       "      <td>2014-01-01</td>\n",
       "      <td>1.0</td>\n",
       "      <td>0.0</td>\n",
       "      <td>0.0</td>\n",
       "      <td>1.0</td>\n",
       "      <td>23.0</td>\n",
       "      <td>0.0</td>\n",
       "    </tr>\n",
       "    <tr>\n",
       "      <th>1</th>\n",
       "      <td>2014-01-02</td>\n",
       "      <td>0.0</td>\n",
       "      <td>0.0</td>\n",
       "      <td>0.0</td>\n",
       "      <td>0.0</td>\n",
       "      <td>23.0</td>\n",
       "      <td>1.4</td>\n",
       "    </tr>\n",
       "    <tr>\n",
       "      <th>2</th>\n",
       "      <td>2014-01-03</td>\n",
       "      <td>5.0</td>\n",
       "      <td>0.0</td>\n",
       "      <td>2.0</td>\n",
       "      <td>3.0</td>\n",
       "      <td>21.0</td>\n",
       "      <td>0.0</td>\n",
       "    </tr>\n",
       "    <tr>\n",
       "      <th>3</th>\n",
       "      <td>2014-01-04</td>\n",
       "      <td>0.0</td>\n",
       "      <td>0.0</td>\n",
       "      <td>0.0</td>\n",
       "      <td>0.0</td>\n",
       "      <td>20.0</td>\n",
       "      <td>0.0</td>\n",
       "    </tr>\n",
       "    <tr>\n",
       "      <th>4</th>\n",
       "      <td>2014-01-05</td>\n",
       "      <td>0.0</td>\n",
       "      <td>0.0</td>\n",
       "      <td>0.0</td>\n",
       "      <td>0.0</td>\n",
       "      <td>19.0</td>\n",
       "      <td>1.8</td>\n",
       "    </tr>\n",
       "  </tbody>\n",
       "</table>\n",
       "</div>"
      ],
      "text/plain": [
       "       key_0  Everything snow related  Commentaire  Plainte  Requete  \\\n",
       "0 2014-01-01                      1.0          0.0      0.0      1.0   \n",
       "1 2014-01-02                      0.0          0.0      0.0      0.0   \n",
       "2 2014-01-03                      5.0          0.0      2.0      3.0   \n",
       "3 2014-01-04                      0.0          0.0      0.0      0.0   \n",
       "4 2014-01-05                      0.0          0.0      0.0      0.0   \n",
       "\n",
       "   Snow_on_Grnd_cm  Total_Snow_cm  \n",
       "0             23.0            0.0  \n",
       "1             23.0            1.4  \n",
       "2             21.0            0.0  \n",
       "3             20.0            0.0  \n",
       "4             19.0            1.8  "
      ]
     },
     "execution_count": 26,
     "metadata": {},
     "output_type": "execute_result"
    }
   ],
   "source": [
    "combining_all_years.head()"
   ]
  },
  {
   "cell_type": "code",
   "execution_count": 27,
   "metadata": {
    "collapsed": true,
    "deletable": true,
    "editable": true
   },
   "outputs": [],
   "source": [
    "combining_all_years[\"everything_per_snow_cm\"]=combining_all_years[\"Everything snow related\"]/combining_all_years[type_of_snow_data]\n",
    "combining_all_years[\"complaints_per_snow_cm\"]=combining_all_years[\"Plainte\"]/combining_all_years[type_of_snow_data]\n",
    "combining_all_years[\"comments_per_snow_cm\"]=combining_all_years[\"Commentaire\"]/combining_all_years[type_of_snow_data]\n",
    "combining_all_years[\"requests_per_snow_cm\"]=combining_all_years[\"Commentaire\"]/combining_all_years[type_of_snow_data]"
   ]
  },
  {
   "cell_type": "code",
   "execution_count": 28,
   "metadata": {
    "collapsed": false,
    "deletable": true,
    "editable": true
   },
   "outputs": [
    {
     "data": {
      "text/plain": [
       "<matplotlib.legend.Legend at 0x2d25be95860>"
      ]
     },
     "execution_count": 28,
     "metadata": {},
     "output_type": "execute_result"
    },
    {
     "data": {
      "image/png": "[encoded data removed]",
      "text/plain": [
       "<matplotlib.figure.Figure at 0x2d25bea3390>"
      ]
     },
     "metadata": {},
     "output_type": "display_data"
    }
   ],
   "source": [
    "\n",
    "#plt.subplot(1,len(list_of_dfs), i+1)\n",
    "#plt.bar(combining_all_years.index, combining_all_years[\"complaints_per_snow_cm\"],label=\"complaints_per_snow_cm\")\n",
    "#plt.bar(combining_all_years.index, combining_all_years[\"comments_per_snow_cm\"],label=\"comments_per_snow_cm\")\n",
    "#plt.bar(combining_all_years.index, combining_all_years[\"requests_per_snow_cm\"],label=\"requests_per_snow_cm\")\n",
    "old_index=0\n",
    "winters=[2013,2014,2015,2016]\n",
    "for i,each_idx in enumerate(each_winter_idx):\n",
    "    \n",
    "    plt.bar(combining_all_years[old_index:each_idx].index, combining_all_years[old_index:each_idx][\"everything_per_snow_cm\"],label=\"winter of %i\"%winters[i])\n",
    "    old_index=each_idx\n",
    "plt.legend()\n",
    "#plt.scatter(combining_all_years.index, combining_all_years[\"Snow_on_Grnd_cm\"],label=\"amount of snow in cm\")\n",
    "\n",
    "    \n",
    "    "
   ]
  },
  {
   "cell_type": "markdown",
   "metadata": {
    "collapsed": true,
    "deletable": true,
    "editable": true
   },
   "source": [
    "# MCMC part\n",
    "Let's see if there truly was a difference in service. We'll just be comparing the difference between the last two winters, because that's where the change took place. \n",
    "\n"
   ]
  },
  {
   "cell_type": "code",
   "execution_count": 58,
   "metadata": {
    "collapsed": false,
    "deletable": true,
    "editable": true
   },
   "outputs": [],
   "source": [
    "#last_two_winters=combining_all_years[200:]\n",
    "#winter_splitter=each_winter_idx[-2]-200\n",
    "#last_two_winters.reset_index(drop=True,inplace=True)\n",
    "\n",
    "last_two_winters=combining_all_years\n",
    "winter_splitter=each_winter_idx[-2]\n"
   ]
  },
  {
   "cell_type": "code",
   "execution_count": 59,
   "metadata": {
    "collapsed": false,
    "deletable": true,
    "editable": true
   },
   "outputs": [
    {
     "data": {
      "text/plain": [
       "296"
      ]
     },
     "execution_count": 59,
     "metadata": {},
     "output_type": "execute_result"
    }
   ],
   "source": [
    "winter_splitter"
   ]
  },
  {
   "cell_type": "code",
   "execution_count": 60,
   "metadata": {
    "collapsed": false,
    "deletable": true,
    "editable": true
   },
   "outputs": [
    {
     "data": {
      "text/plain": [
       "<matplotlib.legend.Legend at 0x2d25cfa3668>"
      ]
     },
     "execution_count": 60,
     "metadata": {},
     "output_type": "execute_result"
    },
    {
     "data": {
      "image/png": "[encoded data removed]",
      "text/plain": [
       "<matplotlib.figure.Figure at 0x2d2603830f0>"
      ]
     },
     "metadata": {},
     "output_type": "display_data"
    }
   ],
   "source": [
    "#Everything snow related everything_per_snow_cm\n",
    "#last_two_winters[\"Everything snow related\"].plot(kind=\"bar\")\n",
    "\n",
    "plt.bar(last_two_winters.index[:winter_splitter],last_two_winters[\"Everything snow related\"].iloc[:winter_splitter],label=\"before\")\n",
    "plt.bar(last_two_winters.index[winter_splitter:],last_two_winters[\"Everything snow related\"].iloc[winter_splitter:],color=\"green\",label=\"after\")\n",
    "plt.legend()\n",
    "\n",
    "\n",
    "\n"
   ]
  },
  {
   "cell_type": "markdown",
   "metadata": {
    "deletable": true,
    "editable": true
   },
   "source": [
    "# let's first take a look at the raw complaints"
   ]
  },
  {
   "cell_type": "code",
   "execution_count": 61,
   "metadata": {
    "collapsed": false,
    "deletable": true,
    "editable": true
   },
   "outputs": [
    {
     "name": "stderr",
     "output_type": "stream",
     "text": [
      "100%|████████████████████████████████████████████████████████████████████████| 150000/150000 [00:52<00:00, 2853.72it/s]\n"
     ]
    },
    {
     "ename": "TypeError",
     "evalue": "'int' object is not subscriptable",
     "output_type": "error",
     "traceback": [
      "\u001b[0;31m---------------------------------------------------------------------------\u001b[0m",
      "\u001b[0;31mTypeError\u001b[0m                                 Traceback (most recent call last)",
      "\u001b[0;32m<ipython-input-61-643fe5b28d0c>\u001b[0m in \u001b[0;36m<module>\u001b[0;34m()\u001b[0m\n\u001b[1;32m     60\u001b[0m          \u001b[0mlabel\u001b[0m\u001b[1;33m=\u001b[0m\u001b[1;34mr\"posterior of $\\tau$\"\u001b[0m\u001b[1;33m,\u001b[0m\u001b[1;33m\u001b[0m\u001b[0m\n\u001b[1;32m     61\u001b[0m          color=\"#467821\", weights=w, rwidth=2.)\n\u001b[0;32m---> 62\u001b[0;31m \u001b[0mplt\u001b[0m\u001b[1;33m.\u001b[0m\u001b[0mxticks\u001b[0m\u001b[1;33m(\u001b[0m\u001b[0mnp\u001b[0m\u001b[1;33m.\u001b[0m\u001b[0marange\u001b[0m\u001b[1;33m(\u001b[0m\u001b[0mn_count_data\u001b[0m\u001b[1;33m[\u001b[0m\u001b[1;33m:\u001b[0m\u001b[1;33m:\u001b[0m\u001b[1;36m3\u001b[0m\u001b[1;33m]\u001b[0m\u001b[1;33m)\u001b[0m\u001b[1;33m)\u001b[0m\u001b[1;33m\u001b[0m\u001b[0m\n\u001b[0m\u001b[1;32m     63\u001b[0m \u001b[1;33m\u001b[0m\u001b[0m\n\u001b[1;32m     64\u001b[0m \u001b[0mplt\u001b[0m\u001b[1;33m.\u001b[0m\u001b[0mlegend\u001b[0m\u001b[1;33m(\u001b[0m\u001b[0mloc\u001b[0m\u001b[1;33m=\u001b[0m\u001b[1;34m\"upper left\"\u001b[0m\u001b[1;33m)\u001b[0m\u001b[1;33m\u001b[0m\u001b[0m\n",
      "\u001b[0;31mTypeError\u001b[0m: 'int' object is not subscriptable"
     ]
    },
    {
     "data": {
      "image/png": "[encoded data removed]",
      "text/plain": [
       "<matplotlib.figure.Figure at 0x2d25e1675c0>"
      ]
     },
     "metadata": {},
     "output_type": "display_data"
    }
   ],
   "source": [
    "#average number of comments\n",
    "chosen_variable=\"Everything snow related\"\n",
    "\n",
    "average_lamba=last_two_winters[chosen_variable].mean() \n",
    "number_of_datapoints=last_two_winters.shape[0]\n",
    "\n",
    "import pymc3 as pm\n",
    "import scipy.stats as stats\n",
    "\n",
    "with pm.Model() as model:\n",
    "    \n",
    "    alpha=1/average_lamba\n",
    "    \n",
    "    lambda1=pm.Exponential(\"lambda1\",alpha)\n",
    "    lambda2=pm.Exponential(\"lambda2\",alpha)\n",
    "    \n",
    "    tau=pm.DiscreteUniform(\"tau\",lower=0,upper=number_of_datapoints-1)\n",
    "    \n",
    "    idx = np.arange(number_of_datapoints) # Index\n",
    "    lambda_ = pm.math.switch(tau >= idx, lambda1, lambda2)\n",
    "\n",
    "    #the last part of your model must always have a link to your data\n",
    "    observation = pm.Poisson(\"obs\", lambda_, observed=last_two_winters[chosen_variable])\n",
    "    \n",
    "    step = pm.Metropolis()\n",
    "    trace = pm.sample(100000, tune=50000,step=step)\n",
    "    \n",
    "lambda_1_samples = trace['lambda1']\n",
    "lambda_2_samples = trace['lambda2']\n",
    "tau_samples = trace['tau']\n",
    "\n",
    "#figsize(12.5, 10)\n",
    "#histogram of the samples:\n",
    "\n",
    "n_count_data=last_two_winters[chosen_variable].shape[0]\n",
    "count_data=last_two_winters[chosen_variable]\n",
    "\n",
    "ax = plt.subplot(311)\n",
    "ax.set_autoscaley_on(False)\n",
    "\n",
    "plt.hist(lambda_1_samples, histtype='stepfilled', bins=30, alpha=0.85,\n",
    "         label=\"posterior of $\\lambda_1$\", color=\"#A60628\", normed=True)\n",
    "plt.legend(loc=\"upper left\")\n",
    "plt.title(r\"\"\"Posterior distributions of the variables\n",
    "    $\\lambda_1,\\;\\lambda_2,\\;\\tau$\"\"\")\n",
    "#plt.xlim([15, 30])\n",
    "plt.xlabel(\"$\\lambda_1$ value\")\n",
    "\n",
    "ax = plt.subplot(312)\n",
    "ax.set_autoscaley_on(False)\n",
    "plt.hist(lambda_2_samples, histtype='stepfilled', bins=30, alpha=0.85,\n",
    "         label=\"posterior of $\\lambda_2$\", color=\"#7A68A6\", normed=True)\n",
    "plt.legend(loc=\"upper left\")\n",
    "#plt.xlim([15, 30])\n",
    "plt.xlabel(\"$\\lambda_2$ value\")\n",
    "\n",
    "plt.subplot(313)\n",
    "w = 1.0 / tau_samples.shape[0] * np.ones_like(tau_samples)\n",
    "plt.hist(tau_samples, bins=n_count_data, alpha=1,\n",
    "         label=r\"posterior of $\\tau$\",\n",
    "         color=\"#467821\", weights=w, rwidth=2.)\n",
    "#plt.xticks(np.arange(n_count_data[::3]))\n",
    "\n",
    "plt.legend(loc=\"upper left\")\n",
    "plt.ylim([0, .75])\n",
    "plt.xlim([35, len(count_data)-20])\n",
    "plt.xlabel(r\"$\\tau$ (in days)\")\n",
    "plt.ylabel(\"probability\");"
   ]
  },
  {
   "cell_type": "code",
   "execution_count": 62,
   "metadata": {
    "collapsed": false,
    "deletable": true,
    "editable": true
   },
   "outputs": [
    {
     "data": {
      "text/plain": [
       "<matplotlib.legend.Legend at 0x2d25c969e48>"
      ]
     },
     "execution_count": 62,
     "metadata": {},
     "output_type": "execute_result"
    },
    {
     "data": {
      "image/png": "[encoded data removed]",
      "text/plain": [
       "<matplotlib.figure.Figure at 0x2d25cf59278>"
      ]
     },
     "metadata": {},
     "output_type": "display_data"
    }
   ],
   "source": [
    "\n",
    "\n",
    "counts = np.bincount(tau_samples)\n",
    "switch_day=np.argmax(counts)\n",
    "\n",
    "\n",
    "plt.bar(last_two_winters.index[:winter_splitter],last_two_winters[chosen_variable].iloc[:winter_splitter],label=\"before\")\n",
    "plt.vlines(switch_day, 0, 60, linestyle=\"--\",label=\"CHANGE DETECTED\")\n",
    "plt.bar(last_two_winters.index[winter_splitter:],last_two_winters[chosen_variable].iloc[winter_splitter:],color=\"green\",label=\"after\")\n",
    "plt.legend()\n",
    "\n",
    "\n"
   ]
  },
  {
   "cell_type": "markdown",
   "metadata": {
    "deletable": true,
    "editable": true
   },
   "source": [
    "# would be it be different for the amount of snow taken into consideration?"
   ]
  },
  {
   "cell_type": "code",
   "execution_count": 63,
   "metadata": {
    "collapsed": false,
    "deletable": true,
    "editable": true
   },
   "outputs": [
    {
     "name": "stderr",
     "output_type": "stream",
     "text": [
      "100%|████████████████████████████████████████████████████████████████████████| 150000/150000 [00:51<00:00, 2936.72it/s]\n"
     ]
    },
    {
     "ename": "TypeError",
     "evalue": "'int' object is not subscriptable",
     "output_type": "error",
     "traceback": [
      "\u001b[0;31m---------------------------------------------------------------------------\u001b[0m",
      "\u001b[0;31mTypeError\u001b[0m                                 Traceback (most recent call last)",
      "\u001b[0;32m<ipython-input-63-ea72c644f6e9>\u001b[0m in \u001b[0;36m<module>\u001b[0;34m()\u001b[0m\n\u001b[1;32m     63\u001b[0m          \u001b[0mlabel\u001b[0m\u001b[1;33m=\u001b[0m\u001b[1;34mr\"posterior of $\\tau$\"\u001b[0m\u001b[1;33m,\u001b[0m\u001b[1;33m\u001b[0m\u001b[0m\n\u001b[1;32m     64\u001b[0m          color=\"#467821\", weights=w, rwidth=2.)\n\u001b[0;32m---> 65\u001b[0;31m \u001b[0mplt\u001b[0m\u001b[1;33m.\u001b[0m\u001b[0mxticks\u001b[0m\u001b[1;33m(\u001b[0m\u001b[0mnp\u001b[0m\u001b[1;33m.\u001b[0m\u001b[0marange\u001b[0m\u001b[1;33m(\u001b[0m\u001b[0mn_count_data\u001b[0m\u001b[1;33m[\u001b[0m\u001b[1;33m:\u001b[0m\u001b[1;33m:\u001b[0m\u001b[1;36m3\u001b[0m\u001b[1;33m]\u001b[0m\u001b[1;33m)\u001b[0m\u001b[1;33m)\u001b[0m\u001b[1;33m\u001b[0m\u001b[0m\n\u001b[0m\u001b[1;32m     66\u001b[0m \u001b[1;33m\u001b[0m\u001b[0m\n\u001b[1;32m     67\u001b[0m \u001b[0mplt\u001b[0m\u001b[1;33m.\u001b[0m\u001b[0mlegend\u001b[0m\u001b[1;33m(\u001b[0m\u001b[0mloc\u001b[0m\u001b[1;33m=\u001b[0m\u001b[1;34m\"upper left\"\u001b[0m\u001b[1;33m)\u001b[0m\u001b[1;33m\u001b[0m\u001b[0m\n",
      "\u001b[0;31mTypeError\u001b[0m: 'int' object is not subscriptable"
     ]
    },
    {
     "data": {
      "image/png": "[encoded data removed]",
      "text/plain": [
       "<matplotlib.figure.Figure at 0x2d25cb7c978>"
      ]
     },
     "metadata": {},
     "output_type": "display_data"
    }
   ],
   "source": [
    "#average number of comments\n",
    "\n",
    "chosen_variable=\"everything_per_snow_cm\"\n",
    "\n",
    "average_lamba=last_two_winters[chosen_variable].mean() \n",
    "number_of_datapoints=last_two_winters.shape[0]\n",
    "\n",
    "import pymc3 as pm\n",
    "import scipy.stats as stats\n",
    "\n",
    "with pm.Model() as model:\n",
    "    \n",
    "    alpha=1/average_lamba\n",
    "    \n",
    "    lambda1=pm.Exponential(\"lambda1\",alpha)\n",
    "    lambda2=pm.Exponential(\"lambda2\",alpha)\n",
    "    \n",
    "    tau=pm.DiscreteUniform(\"tau\",lower=0,upper=number_of_datapoints-1)\n",
    "    \n",
    "    idx = np.arange(number_of_datapoints) # Index\n",
    "    lambda_ = pm.math.switch(tau >= idx, lambda1, lambda2)\n",
    "\n",
    "    #the last part of your model must always have a link to your data\n",
    "    observation = pm.Poisson(\"obs\", lambda_, observed=last_two_winters[chosen_variable])\n",
    "    \n",
    "    step = pm.Metropolis()\n",
    "    trace = pm.sample(100000, tune=50000,step=step)\n",
    "    \n",
    "lambda_1_samples = trace['lambda1']\n",
    "lambda_2_samples = trace['lambda2']\n",
    "tau_samples = trace['tau']\n",
    "\n",
    "\n",
    "\n",
    "#figsize(12.5, 10)\n",
    "#histogram of the samples:\n",
    "\n",
    "n_count_data=last_two_winters[chosen_variable].shape[0]\n",
    "count_data=last_two_winters[chosen_variable]\n",
    "\n",
    "ax = plt.subplot(311)\n",
    "ax.set_autoscaley_on(False)\n",
    "\n",
    "plt.hist(lambda_1_samples, histtype='stepfilled', bins=30, alpha=0.85,\n",
    "         label=\"posterior of $\\lambda_1$\", color=\"#A60628\", normed=True)\n",
    "plt.legend(loc=\"upper left\")\n",
    "plt.title(r\"\"\"Posterior distributions of the variables\n",
    "    $\\lambda_1,\\;\\lambda_2,\\;\\tau$\"\"\")\n",
    "#plt.xlim([15, 30])\n",
    "plt.xlabel(\"$\\lambda_1$ value\")\n",
    "\n",
    "ax = plt.subplot(312)\n",
    "ax.set_autoscaley_on(False)\n",
    "plt.hist(lambda_2_samples, histtype='stepfilled', bins=30, alpha=0.85,\n",
    "         label=\"posterior of $\\lambda_2$\", color=\"#7A68A6\", normed=True)\n",
    "plt.legend(loc=\"upper left\")\n",
    "#plt.xlim([15, 30])\n",
    "plt.xlabel(\"$\\lambda_2$ value\")\n",
    "\n",
    "plt.subplot(313)\n",
    "w = 1.0 / tau_samples.shape[0] * np.ones_like(tau_samples)\n",
    "plt.hist(tau_samples, bins=n_count_data, alpha=1,\n",
    "         label=r\"posterior of $\\tau$\",\n",
    "         color=\"#467821\", weights=w, rwidth=2.)\n",
    "#plt.xticks(np.arange(n_count_data[::3]))\n",
    "\n",
    "plt.legend(loc=\"upper left\")\n",
    "plt.ylim([0, .75])\n",
    "plt.xlim([35, len(count_data)-20])\n",
    "plt.xlabel(r\"$\\tau$ (in days)\")\n",
    "plt.ylabel(\"probability\");\n"
   ]
  },
  {
   "cell_type": "code",
   "execution_count": 67,
   "metadata": {
    "collapsed": false,
    "deletable": true,
    "editable": true
   },
   "outputs": [
    {
     "data": {
      "text/plain": [
       "<matplotlib.legend.Legend at 0x2d267dc5d30>"
      ]
     },
     "execution_count": 67,
     "metadata": {},
     "output_type": "execute_result"
    },
    {
     "data": {
      "image/png": "[encoded data removed]",
      "text/plain": [
       "<matplotlib.figure.Figure at 0x2d262404080>"
      ]
     },
     "metadata": {},
     "output_type": "display_data"
    }
   ],
   "source": [
    "\n",
    "counts = np.bincount(tau_samples)\n",
    "switch_day=np.argmax(counts)\n",
    "\n",
    "\n",
    "plt.bar(last_two_winters.index[:winter_splitter],last_two_winters[chosen_variable].iloc[:winter_splitter],label=\"before\")\n",
    "plt.vlines(switch_day, 0, 3, linestyle=\"--\",label=\"CHANGE DETECTED\")\n",
    "plt.bar(last_two_winters.index[winter_splitter:],last_two_winters[chosen_variable].iloc[winter_splitter:],color=\"green\",label=\"after\")\n",
    "plt.legend()\n",
    "\n",
    "\n"
   ]
  },
  {
   "cell_type": "code",
   "execution_count": null,
   "metadata": {
    "collapsed": false,
    "deletable": true,
    "editable": true
   },
   "outputs": [],
   "source": [
    "\n"
   ]
  },
  {
   "cell_type": "code",
   "execution_count": null,
   "metadata": {
    "collapsed": false,
    "deletable": true,
    "editable": true
   },
   "outputs": [],
   "source": [
    "\n"
   ]
  },
  {
   "cell_type": "code",
   "execution_count": null,
   "metadata": {
    "collapsed": true,
    "deletable": true,
    "editable": true
   },
   "outputs": [],
   "source": []
  }
 ],
 "metadata": {
  "kernelspec": {
   "display_name": "Python 3",
   "language": "python",
   "name": "python3"
  },
  "language_info": {
   "codemirror_mode": {
    "name": "ipython",
    "version": 3
   },
   "file_extension": ".py",
   "mimetype": "text/x-python",
   "name": "python",
   "nbconvert_exporter": "python",
   "pygments_lexer": "ipython3",
   "version": "3.6.1rc1"
  }
 },
 "nbformat": 4,
 "nbformat_minor": 2
}
